{
  "nbformat": 4,
  "nbformat_minor": 0,
  "metadata": {
    "colab": {
      "provenance": [],
      "include_colab_link": true
    },
    "kernelspec": {
      "name": "python3",
      "display_name": "Python 3"
    },
    "language_info": {
      "name": "python"
    }
  },
  "cells": [
    {
      "cell_type": "markdown",
      "metadata": {
        "id": "view-in-github",
        "colab_type": "text"
      },
      "source": [
        "<a href=\"https://colab.research.google.com/github/alireza-rad/IBM/blob/main/Project_Interview.ipynb\" target=\"_parent\"><img src=\"https://colab.research.google.com/assets/colab-badge.svg\" alt=\"Open In Colab\"/></a>"
      ]
    },
    {
      "cell_type": "code",
      "execution_count": null,
      "metadata": {
        "id": "yDIN0BCAdRqu"
      },
      "outputs": [],
      "source": [
        "import numpy as np\n",
        "import pandas as pd\n",
        "import matplotlib.pyplot as plt\n",
        "%matplotlib inline\n",
        "import seaborn as sns\n",
        "import warnings\n",
        "import sklearn\n",
        "from sklearn.preprocessing import StandardScaler\n",
        "from sklearn.preprocessing import LabelEncoder"
      ]
    },
    {
      "cell_type": "code",
      "source": [
        "charges_data = pd.read_csv('/content/charges_data.csv')\n",
        "personel_data = pd.read_csv('/content/personal_data.csv')\n",
        "plan_data = pd.read_csv('/content/plan_data.csv')"
      ],
      "metadata": {
        "id": "Qae_-5-HdYMi"
      },
      "execution_count": 72,
      "outputs": []
    },
    {
      "cell_type": "code",
      "source": [
        "charges_data.info()"
      ],
      "metadata": {
        "id": "YyOxhfTDeupy",
        "colab": {
          "base_uri": "https://localhost:8080/"
        },
        "outputId": "31655869-24da-4b86-8f95-1c788c260755"
      },
      "execution_count": 74,
      "outputs": [
        {
          "output_type": "stream",
          "name": "stdout",
          "text": [
            "<class 'pandas.core.frame.DataFrame'>\n",
            "RangeIndex: 7032 entries, 0 to 7031\n",
            "Data columns (total 8 columns):\n",
            " #   Column            Non-Null Count  Dtype  \n",
            "---  ------            --------------  -----  \n",
            " 0   customerID        7032 non-null   object \n",
            " 1   tenure            7032 non-null   int64  \n",
            " 2   contract          7032 non-null   object \n",
            " 3   paperlessBilling  7032 non-null   object \n",
            " 4   paymentMethod     7032 non-null   object \n",
            " 5   monthlyCharges    6577 non-null   float64\n",
            " 6   totalCharges      6577 non-null   float64\n",
            " 7   churn             7032 non-null   object \n",
            "dtypes: float64(2), int64(1), object(5)\n",
            "memory usage: 439.6+ KB\n"
          ]
        }
      ]
    },
    {
      "cell_type": "code",
      "source": [
        "charges_data.head()"
      ],
      "metadata": {
        "colab": {
          "base_uri": "https://localhost:8080/",
          "height": 206
        },
        "id": "vyYjDbqsgHjt",
        "outputId": "c12c56e4-4e27-431a-f60a-6156066ae150"
      },
      "execution_count": 76,
      "outputs": [
        {
          "output_type": "execute_result",
          "data": {
            "text/plain": [
              "   customerID  tenure        contract paperlessBilling  \\\n",
              "0  7590-VHVEG       1  Month-to-month              Yes   \n",
              "1  5575-GNVDE      34        One year               No   \n",
              "2  3668-QPYBK       2  Month-to-month              Yes   \n",
              "3  7795-CFOCW      45        One year               No   \n",
              "4  9237-HQITU       2  Month-to-month              Yes   \n",
              "\n",
              "               paymentMethod  monthlyCharges  totalCharges churn  \n",
              "0           Electronic check           29.85         29.85    No  \n",
              "1               Mailed check           56.95       1889.50    No  \n",
              "2               Mailed check           53.85        108.15   Yes  \n",
              "3  Bank transfer (automatic)           42.30       1840.75    No  \n",
              "4           Electronic check           70.70        151.65   Yes  "
            ],
            "text/html": [
              "\n",
              "  <div id=\"df-ad6c99ec-4820-472f-ab1b-ac5f6243c1a5\">\n",
              "    <div class=\"colab-df-container\">\n",
              "      <div>\n",
              "<style scoped>\n",
              "    .dataframe tbody tr th:only-of-type {\n",
              "        vertical-align: middle;\n",
              "    }\n",
              "\n",
              "    .dataframe tbody tr th {\n",
              "        vertical-align: top;\n",
              "    }\n",
              "\n",
              "    .dataframe thead th {\n",
              "        text-align: right;\n",
              "    }\n",
              "</style>\n",
              "<table border=\"1\" class=\"dataframe\">\n",
              "  <thead>\n",
              "    <tr style=\"text-align: right;\">\n",
              "      <th></th>\n",
              "      <th>customerID</th>\n",
              "      <th>tenure</th>\n",
              "      <th>contract</th>\n",
              "      <th>paperlessBilling</th>\n",
              "      <th>paymentMethod</th>\n",
              "      <th>monthlyCharges</th>\n",
              "      <th>totalCharges</th>\n",
              "      <th>churn</th>\n",
              "    </tr>\n",
              "  </thead>\n",
              "  <tbody>\n",
              "    <tr>\n",
              "      <th>0</th>\n",
              "      <td>7590-VHVEG</td>\n",
              "      <td>1</td>\n",
              "      <td>Month-to-month</td>\n",
              "      <td>Yes</td>\n",
              "      <td>Electronic check</td>\n",
              "      <td>29.85</td>\n",
              "      <td>29.85</td>\n",
              "      <td>No</td>\n",
              "    </tr>\n",
              "    <tr>\n",
              "      <th>1</th>\n",
              "      <td>5575-GNVDE</td>\n",
              "      <td>34</td>\n",
              "      <td>One year</td>\n",
              "      <td>No</td>\n",
              "      <td>Mailed check</td>\n",
              "      <td>56.95</td>\n",
              "      <td>1889.50</td>\n",
              "      <td>No</td>\n",
              "    </tr>\n",
              "    <tr>\n",
              "      <th>2</th>\n",
              "      <td>3668-QPYBK</td>\n",
              "      <td>2</td>\n",
              "      <td>Month-to-month</td>\n",
              "      <td>Yes</td>\n",
              "      <td>Mailed check</td>\n",
              "      <td>53.85</td>\n",
              "      <td>108.15</td>\n",
              "      <td>Yes</td>\n",
              "    </tr>\n",
              "    <tr>\n",
              "      <th>3</th>\n",
              "      <td>7795-CFOCW</td>\n",
              "      <td>45</td>\n",
              "      <td>One year</td>\n",
              "      <td>No</td>\n",
              "      <td>Bank transfer (automatic)</td>\n",
              "      <td>42.30</td>\n",
              "      <td>1840.75</td>\n",
              "      <td>No</td>\n",
              "    </tr>\n",
              "    <tr>\n",
              "      <th>4</th>\n",
              "      <td>9237-HQITU</td>\n",
              "      <td>2</td>\n",
              "      <td>Month-to-month</td>\n",
              "      <td>Yes</td>\n",
              "      <td>Electronic check</td>\n",
              "      <td>70.70</td>\n",
              "      <td>151.65</td>\n",
              "      <td>Yes</td>\n",
              "    </tr>\n",
              "  </tbody>\n",
              "</table>\n",
              "</div>\n",
              "      <button class=\"colab-df-convert\" onclick=\"convertToInteractive('df-ad6c99ec-4820-472f-ab1b-ac5f6243c1a5')\"\n",
              "              title=\"Convert this dataframe to an interactive table.\"\n",
              "              style=\"display:none;\">\n",
              "        \n",
              "  <svg xmlns=\"http://www.w3.org/2000/svg\" height=\"24px\"viewBox=\"0 0 24 24\"\n",
              "       width=\"24px\">\n",
              "    <path d=\"M0 0h24v24H0V0z\" fill=\"none\"/>\n",
              "    <path d=\"M18.56 5.44l.94 2.06.94-2.06 2.06-.94-2.06-.94-.94-2.06-.94 2.06-2.06.94zm-11 1L8.5 8.5l.94-2.06 2.06-.94-2.06-.94L8.5 2.5l-.94 2.06-2.06.94zm10 10l.94 2.06.94-2.06 2.06-.94-2.06-.94-.94-2.06-.94 2.06-2.06.94z\"/><path d=\"M17.41 7.96l-1.37-1.37c-.4-.4-.92-.59-1.43-.59-.52 0-1.04.2-1.43.59L10.3 9.45l-7.72 7.72c-.78.78-.78 2.05 0 2.83L4 21.41c.39.39.9.59 1.41.59.51 0 1.02-.2 1.41-.59l7.78-7.78 2.81-2.81c.8-.78.8-2.07 0-2.86zM5.41 20L4 18.59l7.72-7.72 1.47 1.35L5.41 20z\"/>\n",
              "  </svg>\n",
              "      </button>\n",
              "      \n",
              "  <style>\n",
              "    .colab-df-container {\n",
              "      display:flex;\n",
              "      flex-wrap:wrap;\n",
              "      gap: 12px;\n",
              "    }\n",
              "\n",
              "    .colab-df-convert {\n",
              "      background-color: #E8F0FE;\n",
              "      border: none;\n",
              "      border-radius: 50%;\n",
              "      cursor: pointer;\n",
              "      display: none;\n",
              "      fill: #1967D2;\n",
              "      height: 32px;\n",
              "      padding: 0 0 0 0;\n",
              "      width: 32px;\n",
              "    }\n",
              "\n",
              "    .colab-df-convert:hover {\n",
              "      background-color: #E2EBFA;\n",
              "      box-shadow: 0px 1px 2px rgba(60, 64, 67, 0.3), 0px 1px 3px 1px rgba(60, 64, 67, 0.15);\n",
              "      fill: #174EA6;\n",
              "    }\n",
              "\n",
              "    [theme=dark] .colab-df-convert {\n",
              "      background-color: #3B4455;\n",
              "      fill: #D2E3FC;\n",
              "    }\n",
              "\n",
              "    [theme=dark] .colab-df-convert:hover {\n",
              "      background-color: #434B5C;\n",
              "      box-shadow: 0px 1px 3px 1px rgba(0, 0, 0, 0.15);\n",
              "      filter: drop-shadow(0px 1px 2px rgba(0, 0, 0, 0.3));\n",
              "      fill: #FFFFFF;\n",
              "    }\n",
              "  </style>\n",
              "\n",
              "      <script>\n",
              "        const buttonEl =\n",
              "          document.querySelector('#df-ad6c99ec-4820-472f-ab1b-ac5f6243c1a5 button.colab-df-convert');\n",
              "        buttonEl.style.display =\n",
              "          google.colab.kernel.accessAllowed ? 'block' : 'none';\n",
              "\n",
              "        async function convertToInteractive(key) {\n",
              "          const element = document.querySelector('#df-ad6c99ec-4820-472f-ab1b-ac5f6243c1a5');\n",
              "          const dataTable =\n",
              "            await google.colab.kernel.invokeFunction('convertToInteractive',\n",
              "                                                     [key], {});\n",
              "          if (!dataTable) return;\n",
              "\n",
              "          const docLinkHtml = 'Like what you see? Visit the ' +\n",
              "            '<a target=\"_blank\" href=https://colab.research.google.com/notebooks/data_table.ipynb>data table notebook</a>'\n",
              "            + ' to learn more about interactive tables.';\n",
              "          element.innerHTML = '';\n",
              "          dataTable['output_type'] = 'display_data';\n",
              "          await google.colab.output.renderOutput(dataTable, element);\n",
              "          const docLink = document.createElement('div');\n",
              "          docLink.innerHTML = docLinkHtml;\n",
              "          element.appendChild(docLink);\n",
              "        }\n",
              "      </script>\n",
              "    </div>\n",
              "  </div>\n",
              "  "
            ]
          },
          "metadata": {},
          "execution_count": 76
        }
      ]
    },
    {
      "cell_type": "code",
      "source": [
        "col = charges_data['monthlyCharges'].dropna()"
      ],
      "metadata": {
        "id": "Wq5jgZqLhKgg"
      },
      "execution_count": 77,
      "outputs": []
    },
    {
      "cell_type": "code",
      "source": [
        "col=np.sort(col)"
      ],
      "metadata": {
        "id": "py9dKoQ1idfO"
      },
      "execution_count": 78,
      "outputs": []
    },
    {
      "cell_type": "code",
      "source": [
        "col"
      ],
      "metadata": {
        "colab": {
          "base_uri": "https://localhost:8080/"
        },
        "id": "juhf7Me7izhR",
        "outputId": "11450c99-babf-4afa-98b2-7b77466275cc"
      },
      "execution_count": 79,
      "outputs": [
        {
          "output_type": "execute_result",
          "data": {
            "text/plain": [
              "array([ 18.25,  18.4 ,  18.55, ..., 118.6 , 118.65, 118.75])"
            ]
          },
          "metadata": {},
          "execution_count": 79
        }
      ]
    },
    {
      "cell_type": "code",
      "source": [
        "len(col)"
      ],
      "metadata": {
        "colab": {
          "base_uri": "https://localhost:8080/"
        },
        "id": "tzlmD5u6i3ET",
        "outputId": "723e49b0-ac19-44d0-ab74-d73c127c4a47"
      },
      "execution_count": 80,
      "outputs": [
        {
          "output_type": "execute_result",
          "data": {
            "text/plain": [
              "6577"
            ]
          },
          "metadata": {},
          "execution_count": 80
        }
      ]
    },
    {
      "cell_type": "code",
      "source": [
        "round(len(col)*0.1)"
      ],
      "metadata": {
        "colab": {
          "base_uri": "https://localhost:8080/"
        },
        "id": "ph_5JEKekqCJ",
        "outputId": "230846b9-1a3e-4f00-eb55-1401037fd6eb"
      },
      "execution_count": 81,
      "outputs": [
        {
          "output_type": "execute_result",
          "data": {
            "text/plain": [
              "658"
            ]
          },
          "metadata": {},
          "execution_count": 81
        }
      ]
    },
    {
      "cell_type": "code",
      "source": [
        "col[657:5919]"
      ],
      "metadata": {
        "colab": {
          "base_uri": "https://localhost:8080/"
        },
        "id": "h-M6ZTjtkJdN",
        "outputId": "ed01a164-5b20-4a6f-d19b-30aa34330957"
      },
      "execution_count": 82,
      "outputs": [
        {
          "output_type": "execute_result",
          "data": {
            "text/plain": [
              "array([ 20.05,  20.05,  20.05, ..., 102.1 , 102.15, 102.25])"
            ]
          },
          "metadata": {},
          "execution_count": 82
        }
      ]
    },
    {
      "cell_type": "code",
      "source": [
        "average = col[657:5919].mean()"
      ],
      "metadata": {
        "id": "fRv563ExjMSX"
      },
      "execution_count": 83,
      "outputs": []
    },
    {
      "cell_type": "code",
      "source": [
        "average"
      ],
      "metadata": {
        "colab": {
          "base_uri": "https://localhost:8080/"
        },
        "id": "uDAKedANkPZi",
        "outputId": "29266491-a89d-411e-d4ac-1f85bd4ad2b8"
      },
      "execution_count": 84,
      "outputs": [
        {
          "output_type": "execute_result",
          "data": {
            "text/plain": [
              "64.8447168377043"
            ]
          },
          "metadata": {},
          "execution_count": 84
        }
      ]
    },
    {
      "cell_type": "code",
      "source": [
        "average=round(average)"
      ],
      "metadata": {
        "id": "IXul-qXrkWKO"
      },
      "execution_count": 85,
      "outputs": []
    },
    {
      "cell_type": "code",
      "source": [
        "average"
      ],
      "metadata": {
        "colab": {
          "base_uri": "https://localhost:8080/"
        },
        "id": "4oR6B8EokfUX",
        "outputId": "c7d62a20-c536-4995-e57b-369142c590c3"
      },
      "execution_count": 86,
      "outputs": [
        {
          "output_type": "execute_result",
          "data": {
            "text/plain": [
              "65"
            ]
          },
          "metadata": {},
          "execution_count": 86
        }
      ]
    },
    {
      "cell_type": "code",
      "source": [
        "charges_data['monthlyCharges'].fillna(average, inplace=True)"
      ],
      "metadata": {
        "id": "94fDXYqLjfxl"
      },
      "execution_count": 87,
      "outputs": []
    },
    {
      "cell_type": "code",
      "source": [
        "charges_data['monthlyCharges']"
      ],
      "metadata": {
        "colab": {
          "base_uri": "https://localhost:8080/"
        },
        "id": "7wCD0GH9kjEA",
        "outputId": "cf2684a0-98cd-45ae-e8a0-bf241c4088bd"
      },
      "execution_count": 88,
      "outputs": [
        {
          "output_type": "execute_result",
          "data": {
            "text/plain": [
              "0        29.85\n",
              "1        56.95\n",
              "2        53.85\n",
              "3        42.30\n",
              "4        70.70\n",
              "         ...  \n",
              "7027     84.80\n",
              "7028     65.00\n",
              "7029     29.60\n",
              "7030     74.40\n",
              "7031    105.65\n",
              "Name: monthlyCharges, Length: 7032, dtype: float64"
            ]
          },
          "metadata": {},
          "execution_count": 88
        }
      ]
    },
    {
      "cell_type": "code",
      "source": [
        "charges_data.info()"
      ],
      "metadata": {
        "colab": {
          "base_uri": "https://localhost:8080/"
        },
        "id": "x1fzFteElbZZ",
        "outputId": "ac85cf20-1b9c-4966-8e73-6a6d94aa6ae9"
      },
      "execution_count": 89,
      "outputs": [
        {
          "output_type": "stream",
          "name": "stdout",
          "text": [
            "<class 'pandas.core.frame.DataFrame'>\n",
            "RangeIndex: 7032 entries, 0 to 7031\n",
            "Data columns (total 8 columns):\n",
            " #   Column            Non-Null Count  Dtype  \n",
            "---  ------            --------------  -----  \n",
            " 0   customerID        7032 non-null   object \n",
            " 1   tenure            7032 non-null   int64  \n",
            " 2   contract          7032 non-null   object \n",
            " 3   paperlessBilling  7032 non-null   object \n",
            " 4   paymentMethod     7032 non-null   object \n",
            " 5   monthlyCharges    7032 non-null   float64\n",
            " 6   totalCharges      6577 non-null   float64\n",
            " 7   churn             7032 non-null   object \n",
            "dtypes: float64(2), int64(1), object(5)\n",
            "memory usage: 439.6+ KB\n"
          ]
        }
      ]
    },
    {
      "cell_type": "code",
      "source": [
        "charges_data['totalCharges'].fillna(charges_data['monthlyCharges']*charges_data['tenure'], inplace=True)"
      ],
      "metadata": {
        "id": "SIDmKQ7Sllul"
      },
      "execution_count": 90,
      "outputs": []
    },
    {
      "cell_type": "code",
      "source": [
        "charges_data.info()"
      ],
      "metadata": {
        "colab": {
          "base_uri": "https://localhost:8080/"
        },
        "id": "dPIQ7xkBm2pB",
        "outputId": "5733ef34-0ef4-4af8-a83d-7f72e69249c1"
      },
      "execution_count": 91,
      "outputs": [
        {
          "output_type": "stream",
          "name": "stdout",
          "text": [
            "<class 'pandas.core.frame.DataFrame'>\n",
            "RangeIndex: 7032 entries, 0 to 7031\n",
            "Data columns (total 8 columns):\n",
            " #   Column            Non-Null Count  Dtype  \n",
            "---  ------            --------------  -----  \n",
            " 0   customerID        7032 non-null   object \n",
            " 1   tenure            7032 non-null   int64  \n",
            " 2   contract          7032 non-null   object \n",
            " 3   paperlessBilling  7032 non-null   object \n",
            " 4   paymentMethod     7032 non-null   object \n",
            " 5   monthlyCharges    7032 non-null   float64\n",
            " 6   totalCharges      7032 non-null   float64\n",
            " 7   churn             7032 non-null   object \n",
            "dtypes: float64(2), int64(1), object(5)\n",
            "memory usage: 439.6+ KB\n"
          ]
        }
      ]
    },
    {
      "cell_type": "code",
      "source": [
        "bins = [0, 24, 48, 60, np.inf]\n",
        "labels = ['group1', 'group2', 'group3', 'group4']\n",
        "charges_data['tenureBinned'] = pd.cut(charges_data['tenure'], bins=bins, labels=labels)\n"
      ],
      "metadata": {
        "id": "qWgRjmq5nB-e"
      },
      "execution_count": 92,
      "outputs": []
    },
    {
      "cell_type": "code",
      "source": [
        "charges_data.sample(10)"
      ],
      "metadata": {
        "colab": {
          "base_uri": "https://localhost:8080/",
          "height": 581
        },
        "id": "J-TT_SszpZBJ",
        "outputId": "4df2fb7f-cb86-42de-e168-e579ffed5a29"
      },
      "execution_count": 93,
      "outputs": [
        {
          "output_type": "execute_result",
          "data": {
            "text/plain": [
              "      customerID  tenure        contract paperlessBilling  \\\n",
              "582   1423-BMPBQ       1  Month-to-month              Yes   \n",
              "3747  1816-FLZDK       1  Month-to-month               No   \n",
              "6991  9586-JGQKH      64        Two year              Yes   \n",
              "5666  4983-CCWMC       3  Month-to-month              Yes   \n",
              "6646  1705-GUHPV      63        Two year               No   \n",
              "1008  6614-YOLAC      71        Two year               No   \n",
              "6120  4132-POCZS      52  Month-to-month              Yes   \n",
              "3252  5482-VXSXJ      22  Month-to-month              Yes   \n",
              "1019  8242-SOQUO       5  Month-to-month              Yes   \n",
              "5110  7621-VPNET      42  Month-to-month              Yes   \n",
              "\n",
              "                  paymentMethod  monthlyCharges  totalCharges churn  \\\n",
              "582                Mailed check           65.00         65.00    No   \n",
              "3747               Mailed check           65.00         65.00    No   \n",
              "6991  Bank transfer (automatic)          105.40       6794.75    No   \n",
              "5666               Mailed check           69.60        207.40    No   \n",
              "6646               Mailed check           24.20       1618.20    No   \n",
              "1008               Mailed check           58.65       4145.25    No   \n",
              "6120           Electronic check           39.90       2020.90    No   \n",
              "3252               Mailed check           93.20       2157.30    No   \n",
              "1019           Electronic check           84.70        392.50    No   \n",
              "5110    Credit card (automatic)           85.90       3729.75    No   \n",
              "\n",
              "     tenureBinned  \n",
              "582        group1  \n",
              "3747       group1  \n",
              "6991       group4  \n",
              "5666       group1  \n",
              "6646       group4  \n",
              "1008       group4  \n",
              "6120       group3  \n",
              "3252       group1  \n",
              "1019       group1  \n",
              "5110       group2  "
            ],
            "text/html": [
              "\n",
              "  <div id=\"df-6614a05b-7c3e-45bc-8e57-b9e7fbd56ff7\">\n",
              "    <div class=\"colab-df-container\">\n",
              "      <div>\n",
              "<style scoped>\n",
              "    .dataframe tbody tr th:only-of-type {\n",
              "        vertical-align: middle;\n",
              "    }\n",
              "\n",
              "    .dataframe tbody tr th {\n",
              "        vertical-align: top;\n",
              "    }\n",
              "\n",
              "    .dataframe thead th {\n",
              "        text-align: right;\n",
              "    }\n",
              "</style>\n",
              "<table border=\"1\" class=\"dataframe\">\n",
              "  <thead>\n",
              "    <tr style=\"text-align: right;\">\n",
              "      <th></th>\n",
              "      <th>customerID</th>\n",
              "      <th>tenure</th>\n",
              "      <th>contract</th>\n",
              "      <th>paperlessBilling</th>\n",
              "      <th>paymentMethod</th>\n",
              "      <th>monthlyCharges</th>\n",
              "      <th>totalCharges</th>\n",
              "      <th>churn</th>\n",
              "      <th>tenureBinned</th>\n",
              "    </tr>\n",
              "  </thead>\n",
              "  <tbody>\n",
              "    <tr>\n",
              "      <th>582</th>\n",
              "      <td>1423-BMPBQ</td>\n",
              "      <td>1</td>\n",
              "      <td>Month-to-month</td>\n",
              "      <td>Yes</td>\n",
              "      <td>Mailed check</td>\n",
              "      <td>65.00</td>\n",
              "      <td>65.00</td>\n",
              "      <td>No</td>\n",
              "      <td>group1</td>\n",
              "    </tr>\n",
              "    <tr>\n",
              "      <th>3747</th>\n",
              "      <td>1816-FLZDK</td>\n",
              "      <td>1</td>\n",
              "      <td>Month-to-month</td>\n",
              "      <td>No</td>\n",
              "      <td>Mailed check</td>\n",
              "      <td>65.00</td>\n",
              "      <td>65.00</td>\n",
              "      <td>No</td>\n",
              "      <td>group1</td>\n",
              "    </tr>\n",
              "    <tr>\n",
              "      <th>6991</th>\n",
              "      <td>9586-JGQKH</td>\n",
              "      <td>64</td>\n",
              "      <td>Two year</td>\n",
              "      <td>Yes</td>\n",
              "      <td>Bank transfer (automatic)</td>\n",
              "      <td>105.40</td>\n",
              "      <td>6794.75</td>\n",
              "      <td>No</td>\n",
              "      <td>group4</td>\n",
              "    </tr>\n",
              "    <tr>\n",
              "      <th>5666</th>\n",
              "      <td>4983-CCWMC</td>\n",
              "      <td>3</td>\n",
              "      <td>Month-to-month</td>\n",
              "      <td>Yes</td>\n",
              "      <td>Mailed check</td>\n",
              "      <td>69.60</td>\n",
              "      <td>207.40</td>\n",
              "      <td>No</td>\n",
              "      <td>group1</td>\n",
              "    </tr>\n",
              "    <tr>\n",
              "      <th>6646</th>\n",
              "      <td>1705-GUHPV</td>\n",
              "      <td>63</td>\n",
              "      <td>Two year</td>\n",
              "      <td>No</td>\n",
              "      <td>Mailed check</td>\n",
              "      <td>24.20</td>\n",
              "      <td>1618.20</td>\n",
              "      <td>No</td>\n",
              "      <td>group4</td>\n",
              "    </tr>\n",
              "    <tr>\n",
              "      <th>1008</th>\n",
              "      <td>6614-YOLAC</td>\n",
              "      <td>71</td>\n",
              "      <td>Two year</td>\n",
              "      <td>No</td>\n",
              "      <td>Mailed check</td>\n",
              "      <td>58.65</td>\n",
              "      <td>4145.25</td>\n",
              "      <td>No</td>\n",
              "      <td>group4</td>\n",
              "    </tr>\n",
              "    <tr>\n",
              "      <th>6120</th>\n",
              "      <td>4132-POCZS</td>\n",
              "      <td>52</td>\n",
              "      <td>Month-to-month</td>\n",
              "      <td>Yes</td>\n",
              "      <td>Electronic check</td>\n",
              "      <td>39.90</td>\n",
              "      <td>2020.90</td>\n",
              "      <td>No</td>\n",
              "      <td>group3</td>\n",
              "    </tr>\n",
              "    <tr>\n",
              "      <th>3252</th>\n",
              "      <td>5482-VXSXJ</td>\n",
              "      <td>22</td>\n",
              "      <td>Month-to-month</td>\n",
              "      <td>Yes</td>\n",
              "      <td>Mailed check</td>\n",
              "      <td>93.20</td>\n",
              "      <td>2157.30</td>\n",
              "      <td>No</td>\n",
              "      <td>group1</td>\n",
              "    </tr>\n",
              "    <tr>\n",
              "      <th>1019</th>\n",
              "      <td>8242-SOQUO</td>\n",
              "      <td>5</td>\n",
              "      <td>Month-to-month</td>\n",
              "      <td>Yes</td>\n",
              "      <td>Electronic check</td>\n",
              "      <td>84.70</td>\n",
              "      <td>392.50</td>\n",
              "      <td>No</td>\n",
              "      <td>group1</td>\n",
              "    </tr>\n",
              "    <tr>\n",
              "      <th>5110</th>\n",
              "      <td>7621-VPNET</td>\n",
              "      <td>42</td>\n",
              "      <td>Month-to-month</td>\n",
              "      <td>Yes</td>\n",
              "      <td>Credit card (automatic)</td>\n",
              "      <td>85.90</td>\n",
              "      <td>3729.75</td>\n",
              "      <td>No</td>\n",
              "      <td>group2</td>\n",
              "    </tr>\n",
              "  </tbody>\n",
              "</table>\n",
              "</div>\n",
              "      <button class=\"colab-df-convert\" onclick=\"convertToInteractive('df-6614a05b-7c3e-45bc-8e57-b9e7fbd56ff7')\"\n",
              "              title=\"Convert this dataframe to an interactive table.\"\n",
              "              style=\"display:none;\">\n",
              "        \n",
              "  <svg xmlns=\"http://www.w3.org/2000/svg\" height=\"24px\"viewBox=\"0 0 24 24\"\n",
              "       width=\"24px\">\n",
              "    <path d=\"M0 0h24v24H0V0z\" fill=\"none\"/>\n",
              "    <path d=\"M18.56 5.44l.94 2.06.94-2.06 2.06-.94-2.06-.94-.94-2.06-.94 2.06-2.06.94zm-11 1L8.5 8.5l.94-2.06 2.06-.94-2.06-.94L8.5 2.5l-.94 2.06-2.06.94zm10 10l.94 2.06.94-2.06 2.06-.94-2.06-.94-.94-2.06-.94 2.06-2.06.94z\"/><path d=\"M17.41 7.96l-1.37-1.37c-.4-.4-.92-.59-1.43-.59-.52 0-1.04.2-1.43.59L10.3 9.45l-7.72 7.72c-.78.78-.78 2.05 0 2.83L4 21.41c.39.39.9.59 1.41.59.51 0 1.02-.2 1.41-.59l7.78-7.78 2.81-2.81c.8-.78.8-2.07 0-2.86zM5.41 20L4 18.59l7.72-7.72 1.47 1.35L5.41 20z\"/>\n",
              "  </svg>\n",
              "      </button>\n",
              "      \n",
              "  <style>\n",
              "    .colab-df-container {\n",
              "      display:flex;\n",
              "      flex-wrap:wrap;\n",
              "      gap: 12px;\n",
              "    }\n",
              "\n",
              "    .colab-df-convert {\n",
              "      background-color: #E8F0FE;\n",
              "      border: none;\n",
              "      border-radius: 50%;\n",
              "      cursor: pointer;\n",
              "      display: none;\n",
              "      fill: #1967D2;\n",
              "      height: 32px;\n",
              "      padding: 0 0 0 0;\n",
              "      width: 32px;\n",
              "    }\n",
              "\n",
              "    .colab-df-convert:hover {\n",
              "      background-color: #E2EBFA;\n",
              "      box-shadow: 0px 1px 2px rgba(60, 64, 67, 0.3), 0px 1px 3px 1px rgba(60, 64, 67, 0.15);\n",
              "      fill: #174EA6;\n",
              "    }\n",
              "\n",
              "    [theme=dark] .colab-df-convert {\n",
              "      background-color: #3B4455;\n",
              "      fill: #D2E3FC;\n",
              "    }\n",
              "\n",
              "    [theme=dark] .colab-df-convert:hover {\n",
              "      background-color: #434B5C;\n",
              "      box-shadow: 0px 1px 3px 1px rgba(0, 0, 0, 0.15);\n",
              "      filter: drop-shadow(0px 1px 2px rgba(0, 0, 0, 0.3));\n",
              "      fill: #FFFFFF;\n",
              "    }\n",
              "  </style>\n",
              "\n",
              "      <script>\n",
              "        const buttonEl =\n",
              "          document.querySelector('#df-6614a05b-7c3e-45bc-8e57-b9e7fbd56ff7 button.colab-df-convert');\n",
              "        buttonEl.style.display =\n",
              "          google.colab.kernel.accessAllowed ? 'block' : 'none';\n",
              "\n",
              "        async function convertToInteractive(key) {\n",
              "          const element = document.querySelector('#df-6614a05b-7c3e-45bc-8e57-b9e7fbd56ff7');\n",
              "          const dataTable =\n",
              "            await google.colab.kernel.invokeFunction('convertToInteractive',\n",
              "                                                     [key], {});\n",
              "          if (!dataTable) return;\n",
              "\n",
              "          const docLinkHtml = 'Like what you see? Visit the ' +\n",
              "            '<a target=\"_blank\" href=https://colab.research.google.com/notebooks/data_table.ipynb>data table notebook</a>'\n",
              "            + ' to learn more about interactive tables.';\n",
              "          element.innerHTML = '';\n",
              "          dataTable['output_type'] = 'display_data';\n",
              "          await google.colab.output.renderOutput(dataTable, element);\n",
              "          const docLink = document.createElement('div');\n",
              "          docLink.innerHTML = docLinkHtml;\n",
              "          element.appendChild(docLink);\n",
              "        }\n",
              "      </script>\n",
              "    </div>\n",
              "  </div>\n",
              "  "
            ]
          },
          "metadata": {},
          "execution_count": 93
        }
      ]
    },
    {
      "cell_type": "code",
      "source": [
        "charges_data['churn'] == 'Yes'"
      ],
      "metadata": {
        "colab": {
          "base_uri": "https://localhost:8080/"
        },
        "id": "nXF_FS4SpeIO",
        "outputId": "49e90073-dd1a-4ec9-83f4-0177e940a079"
      },
      "execution_count": 94,
      "outputs": [
        {
          "output_type": "execute_result",
          "data": {
            "text/plain": [
              "0       False\n",
              "1       False\n",
              "2        True\n",
              "3       False\n",
              "4        True\n",
              "        ...  \n",
              "7027    False\n",
              "7028    False\n",
              "7029    False\n",
              "7030     True\n",
              "7031    False\n",
              "Name: churn, Length: 7032, dtype: bool"
            ]
          },
          "metadata": {},
          "execution_count": 94
        }
      ]
    },
    {
      "cell_type": "code",
      "source": [
        "sum(charges_data['churn'] == 'Yes')"
      ],
      "metadata": {
        "colab": {
          "base_uri": "https://localhost:8080/"
        },
        "id": "PlmL6EQVqjAt",
        "outputId": "c63273a6-460c-459a-91e5-d37e7f406e4e"
      },
      "execution_count": 95,
      "outputs": [
        {
          "output_type": "execute_result",
          "data": {
            "text/plain": [
              "1869"
            ]
          },
          "metadata": {},
          "execution_count": 95
        }
      ]
    },
    {
      "cell_type": "code",
      "source": [
        "len(charges_data['churn'])"
      ],
      "metadata": {
        "colab": {
          "base_uri": "https://localhost:8080/"
        },
        "id": "pA0Pf9VCqq7u",
        "outputId": "17360b05-d245-4d45-a0c9-900dc763ae00"
      },
      "execution_count": 96,
      "outputs": [
        {
          "output_type": "execute_result",
          "data": {
            "text/plain": [
              "7032"
            ]
          },
          "metadata": {},
          "execution_count": 96
        }
      ]
    },
    {
      "cell_type": "code",
      "source": [
        "sum(charges_data['churn'] == 'Yes')/len(charges_data['churn'])*100"
      ],
      "metadata": {
        "colab": {
          "base_uri": "https://localhost:8080/"
        },
        "id": "p6Y6HL6prCmB",
        "outputId": "415b84cd-da4b-405a-e3ef-d2c825be277a"
      },
      "execution_count": 97,
      "outputs": [
        {
          "output_type": "execute_result",
          "data": {
            "text/plain": [
              "26.578498293515356"
            ]
          },
          "metadata": {},
          "execution_count": 97
        }
      ]
    },
    {
      "cell_type": "code",
      "source": [
        "int(sum(charges_data['churn'] == 'Yes')/len(charges_data['churn'])*100)"
      ],
      "metadata": {
        "colab": {
          "base_uri": "https://localhost:8080/"
        },
        "id": "HERclWdFrbhS",
        "outputId": "245ce40d-fe4f-4ce5-b8ce-74bbd1560790"
      },
      "execution_count": 98,
      "outputs": [
        {
          "output_type": "execute_result",
          "data": {
            "text/plain": [
              "26"
            ]
          },
          "metadata": {},
          "execution_count": 98
        }
      ]
    },
    {
      "cell_type": "code",
      "source": [
        "churn_pct = int((charges_data['churn'].value_counts(normalize=True)['Yes'] * 100))"
      ],
      "metadata": {
        "id": "bhQomrSDrpJp"
      },
      "execution_count": 99,
      "outputs": []
    },
    {
      "cell_type": "code",
      "source": [
        "charges_data['churn'].value_counts(normalize=True)"
      ],
      "metadata": {
        "colab": {
          "base_uri": "https://localhost:8080/"
        },
        "id": "jCJxGL7CsEWG",
        "outputId": "23f1cc19-090c-4994-e9ad-538a3c677939"
      },
      "execution_count": 100,
      "outputs": [
        {
          "output_type": "execute_result",
          "data": {
            "text/plain": [
              "No     0.734215\n",
              "Yes    0.265785\n",
              "Name: churn, dtype: float64"
            ]
          },
          "metadata": {},
          "execution_count": 100
        }
      ]
    },
    {
      "cell_type": "code",
      "source": [
        "charges_data['churn'].value_counts(normalize=True)['Yes']"
      ],
      "metadata": {
        "colab": {
          "base_uri": "https://localhost:8080/"
        },
        "id": "OT9wLfngsKNf",
        "outputId": "5e366c2d-3a58-4f47-8f7a-02c95310cc82"
      },
      "execution_count": 101,
      "outputs": [
        {
          "output_type": "execute_result",
          "data": {
            "text/plain": [
              "0.26578498293515357"
            ]
          },
          "metadata": {},
          "execution_count": 101
        }
      ]
    },
    {
      "cell_type": "code",
      "source": [],
      "metadata": {
        "id": "iGAWPlH1sOiY"
      },
      "execution_count": 101,
      "outputs": []
    },
    {
      "cell_type": "code",
      "source": [
        "charges_personal_data = charges_data.merge(personel_data, on='customerID', how='inner')\n"
      ],
      "metadata": {
        "id": "UwlxhU28sXY6"
      },
      "execution_count": 102,
      "outputs": []
    },
    {
      "cell_type": "code",
      "source": [
        "data_merged = charges_personal_data.merge(plan_data, on='customerID', how='left')\n"
      ],
      "metadata": {
        "id": "L9r9fVqbvLgW"
      },
      "execution_count": 103,
      "outputs": []
    },
    {
      "cell_type": "code",
      "source": [
        "charges_personal_data.head()"
      ],
      "metadata": {
        "colab": {
          "base_uri": "https://localhost:8080/",
          "height": 357
        },
        "id": "4BXt-iUEwTsn",
        "outputId": "85b4358c-8d25-4e78-9fba-c799ecd5919f"
      },
      "execution_count": 104,
      "outputs": [
        {
          "output_type": "execute_result",
          "data": {
            "text/plain": [
              "   customerID  tenure        contract paperlessBilling  \\\n",
              "0  5575-GNVDE      34        One year               No   \n",
              "1  3668-QPYBK       2  Month-to-month              Yes   \n",
              "2  7795-CFOCW      45        One year               No   \n",
              "3  9237-HQITU       2  Month-to-month              Yes   \n",
              "4  9305-CDSKC       8  Month-to-month              Yes   \n",
              "\n",
              "               paymentMethod  monthlyCharges  totalCharges churn tenureBinned  \\\n",
              "0               Mailed check           56.95       1889.50    No       group2   \n",
              "1               Mailed check           53.85        108.15   Yes       group1   \n",
              "2  Bank transfer (automatic)           42.30       1840.75    No       group2   \n",
              "3           Electronic check           70.70        151.65   Yes       group1   \n",
              "4           Electronic check           99.65        820.50   Yes       group1   \n",
              "\n",
              "   gender partner dependents  age  \n",
              "0    Male      No         No   41  \n",
              "1    Male      No         No   58  \n",
              "2    Male      No         No   61  \n",
              "3  Female      No         No   66  \n",
              "4  Female      No         No   87  "
            ],
            "text/html": [
              "\n",
              "  <div id=\"df-f8eb944a-03d3-4b69-b832-f98105d9b286\">\n",
              "    <div class=\"colab-df-container\">\n",
              "      <div>\n",
              "<style scoped>\n",
              "    .dataframe tbody tr th:only-of-type {\n",
              "        vertical-align: middle;\n",
              "    }\n",
              "\n",
              "    .dataframe tbody tr th {\n",
              "        vertical-align: top;\n",
              "    }\n",
              "\n",
              "    .dataframe thead th {\n",
              "        text-align: right;\n",
              "    }\n",
              "</style>\n",
              "<table border=\"1\" class=\"dataframe\">\n",
              "  <thead>\n",
              "    <tr style=\"text-align: right;\">\n",
              "      <th></th>\n",
              "      <th>customerID</th>\n",
              "      <th>tenure</th>\n",
              "      <th>contract</th>\n",
              "      <th>paperlessBilling</th>\n",
              "      <th>paymentMethod</th>\n",
              "      <th>monthlyCharges</th>\n",
              "      <th>totalCharges</th>\n",
              "      <th>churn</th>\n",
              "      <th>tenureBinned</th>\n",
              "      <th>gender</th>\n",
              "      <th>partner</th>\n",
              "      <th>dependents</th>\n",
              "      <th>age</th>\n",
              "    </tr>\n",
              "  </thead>\n",
              "  <tbody>\n",
              "    <tr>\n",
              "      <th>0</th>\n",
              "      <td>5575-GNVDE</td>\n",
              "      <td>34</td>\n",
              "      <td>One year</td>\n",
              "      <td>No</td>\n",
              "      <td>Mailed check</td>\n",
              "      <td>56.95</td>\n",
              "      <td>1889.50</td>\n",
              "      <td>No</td>\n",
              "      <td>group2</td>\n",
              "      <td>Male</td>\n",
              "      <td>No</td>\n",
              "      <td>No</td>\n",
              "      <td>41</td>\n",
              "    </tr>\n",
              "    <tr>\n",
              "      <th>1</th>\n",
              "      <td>3668-QPYBK</td>\n",
              "      <td>2</td>\n",
              "      <td>Month-to-month</td>\n",
              "      <td>Yes</td>\n",
              "      <td>Mailed check</td>\n",
              "      <td>53.85</td>\n",
              "      <td>108.15</td>\n",
              "      <td>Yes</td>\n",
              "      <td>group1</td>\n",
              "      <td>Male</td>\n",
              "      <td>No</td>\n",
              "      <td>No</td>\n",
              "      <td>58</td>\n",
              "    </tr>\n",
              "    <tr>\n",
              "      <th>2</th>\n",
              "      <td>7795-CFOCW</td>\n",
              "      <td>45</td>\n",
              "      <td>One year</td>\n",
              "      <td>No</td>\n",
              "      <td>Bank transfer (automatic)</td>\n",
              "      <td>42.30</td>\n",
              "      <td>1840.75</td>\n",
              "      <td>No</td>\n",
              "      <td>group2</td>\n",
              "      <td>Male</td>\n",
              "      <td>No</td>\n",
              "      <td>No</td>\n",
              "      <td>61</td>\n",
              "    </tr>\n",
              "    <tr>\n",
              "      <th>3</th>\n",
              "      <td>9237-HQITU</td>\n",
              "      <td>2</td>\n",
              "      <td>Month-to-month</td>\n",
              "      <td>Yes</td>\n",
              "      <td>Electronic check</td>\n",
              "      <td>70.70</td>\n",
              "      <td>151.65</td>\n",
              "      <td>Yes</td>\n",
              "      <td>group1</td>\n",
              "      <td>Female</td>\n",
              "      <td>No</td>\n",
              "      <td>No</td>\n",
              "      <td>66</td>\n",
              "    </tr>\n",
              "    <tr>\n",
              "      <th>4</th>\n",
              "      <td>9305-CDSKC</td>\n",
              "      <td>8</td>\n",
              "      <td>Month-to-month</td>\n",
              "      <td>Yes</td>\n",
              "      <td>Electronic check</td>\n",
              "      <td>99.65</td>\n",
              "      <td>820.50</td>\n",
              "      <td>Yes</td>\n",
              "      <td>group1</td>\n",
              "      <td>Female</td>\n",
              "      <td>No</td>\n",
              "      <td>No</td>\n",
              "      <td>87</td>\n",
              "    </tr>\n",
              "  </tbody>\n",
              "</table>\n",
              "</div>\n",
              "      <button class=\"colab-df-convert\" onclick=\"convertToInteractive('df-f8eb944a-03d3-4b69-b832-f98105d9b286')\"\n",
              "              title=\"Convert this dataframe to an interactive table.\"\n",
              "              style=\"display:none;\">\n",
              "        \n",
              "  <svg xmlns=\"http://www.w3.org/2000/svg\" height=\"24px\"viewBox=\"0 0 24 24\"\n",
              "       width=\"24px\">\n",
              "    <path d=\"M0 0h24v24H0V0z\" fill=\"none\"/>\n",
              "    <path d=\"M18.56 5.44l.94 2.06.94-2.06 2.06-.94-2.06-.94-.94-2.06-.94 2.06-2.06.94zm-11 1L8.5 8.5l.94-2.06 2.06-.94-2.06-.94L8.5 2.5l-.94 2.06-2.06.94zm10 10l.94 2.06.94-2.06 2.06-.94-2.06-.94-.94-2.06-.94 2.06-2.06.94z\"/><path d=\"M17.41 7.96l-1.37-1.37c-.4-.4-.92-.59-1.43-.59-.52 0-1.04.2-1.43.59L10.3 9.45l-7.72 7.72c-.78.78-.78 2.05 0 2.83L4 21.41c.39.39.9.59 1.41.59.51 0 1.02-.2 1.41-.59l7.78-7.78 2.81-2.81c.8-.78.8-2.07 0-2.86zM5.41 20L4 18.59l7.72-7.72 1.47 1.35L5.41 20z\"/>\n",
              "  </svg>\n",
              "      </button>\n",
              "      \n",
              "  <style>\n",
              "    .colab-df-container {\n",
              "      display:flex;\n",
              "      flex-wrap:wrap;\n",
              "      gap: 12px;\n",
              "    }\n",
              "\n",
              "    .colab-df-convert {\n",
              "      background-color: #E8F0FE;\n",
              "      border: none;\n",
              "      border-radius: 50%;\n",
              "      cursor: pointer;\n",
              "      display: none;\n",
              "      fill: #1967D2;\n",
              "      height: 32px;\n",
              "      padding: 0 0 0 0;\n",
              "      width: 32px;\n",
              "    }\n",
              "\n",
              "    .colab-df-convert:hover {\n",
              "      background-color: #E2EBFA;\n",
              "      box-shadow: 0px 1px 2px rgba(60, 64, 67, 0.3), 0px 1px 3px 1px rgba(60, 64, 67, 0.15);\n",
              "      fill: #174EA6;\n",
              "    }\n",
              "\n",
              "    [theme=dark] .colab-df-convert {\n",
              "      background-color: #3B4455;\n",
              "      fill: #D2E3FC;\n",
              "    }\n",
              "\n",
              "    [theme=dark] .colab-df-convert:hover {\n",
              "      background-color: #434B5C;\n",
              "      box-shadow: 0px 1px 3px 1px rgba(0, 0, 0, 0.15);\n",
              "      filter: drop-shadow(0px 1px 2px rgba(0, 0, 0, 0.3));\n",
              "      fill: #FFFFFF;\n",
              "    }\n",
              "  </style>\n",
              "\n",
              "      <script>\n",
              "        const buttonEl =\n",
              "          document.querySelector('#df-f8eb944a-03d3-4b69-b832-f98105d9b286 button.colab-df-convert');\n",
              "        buttonEl.style.display =\n",
              "          google.colab.kernel.accessAllowed ? 'block' : 'none';\n",
              "\n",
              "        async function convertToInteractive(key) {\n",
              "          const element = document.querySelector('#df-f8eb944a-03d3-4b69-b832-f98105d9b286');\n",
              "          const dataTable =\n",
              "            await google.colab.kernel.invokeFunction('convertToInteractive',\n",
              "                                                     [key], {});\n",
              "          if (!dataTable) return;\n",
              "\n",
              "          const docLinkHtml = 'Like what you see? Visit the ' +\n",
              "            '<a target=\"_blank\" href=https://colab.research.google.com/notebooks/data_table.ipynb>data table notebook</a>'\n",
              "            + ' to learn more about interactive tables.';\n",
              "          element.innerHTML = '';\n",
              "          dataTable['output_type'] = 'display_data';\n",
              "          await google.colab.output.renderOutput(dataTable, element);\n",
              "          const docLink = document.createElement('div');\n",
              "          docLink.innerHTML = docLinkHtml;\n",
              "          element.appendChild(docLink);\n",
              "        }\n",
              "      </script>\n",
              "    </div>\n",
              "  </div>\n",
              "  "
            ]
          },
          "metadata": {},
          "execution_count": 104
        }
      ]
    },
    {
      "cell_type": "code",
      "source": [
        "data_merged.sample(10)"
      ],
      "metadata": {
        "colab": {
          "base_uri": "https://localhost:8080/",
          "height": 630
        },
        "id": "5kzlqqC5wXvD",
        "outputId": "e06cb7f1-7b7d-42ce-90ca-e2b39951ee88"
      },
      "execution_count": 106,
      "outputs": [
        {
          "output_type": "execute_result",
          "data": {
            "text/plain": [
              "      customerID  tenure        contract paperlessBilling  \\\n",
              "4839  3256-EZDBI      51  Month-to-month              Yes   \n",
              "3212  2582-FFFZR      22  Month-to-month              Yes   \n",
              "2408  2703-AMTUL      36        One year               No   \n",
              "780   6445-TNRXS      68        Two year              Yes   \n",
              "2006  5781-BKHOP      72        Two year               No   \n",
              "4097  7856-GANIL      45        One year              Yes   \n",
              "2055  2495-INZWQ       4  Month-to-month              Yes   \n",
              "3279  7663-YJHSN      72        Two year              Yes   \n",
              "836   9763-PDTKK       4  Month-to-month              Yes   \n",
              "4001  6082-GLJIX      18  Month-to-month               No   \n",
              "\n",
              "                  paymentMethod  monthlyCharges  totalCharges churn  \\\n",
              "4839    Credit card (automatic)           29.45       1459.35    No   \n",
              "3212           Electronic check           50.60       1073.30    No   \n",
              "2408               Mailed check           53.65       1939.35    No   \n",
              "780   Bank transfer (automatic)          114.70       7849.85    No   \n",
              "2006  Bank transfer (automatic)          100.65       7334.05    No   \n",
              "4097  Bank transfer (automatic)           98.70       4525.80    No   \n",
              "2055           Electronic check           44.55        174.30   Yes   \n",
              "3279  Bank transfer (automatic)          103.95       7556.90    No   \n",
              "836   Bank transfer (automatic)           94.40        387.20   Yes   \n",
              "4001               Mailed check           19.25        331.35    No   \n",
              "\n",
              "     tenureBinned  gender  ... age phoneService     multipleLines  \\\n",
              "4839       group3    Male  ...  73           No  No phone service   \n",
              "3212       group1  Female  ...  58           No  No phone service   \n",
              "2408       group2    Male  ...  46          Yes                No   \n",
              "780        group4    Male  ...  50          NaN               NaN   \n",
              "2006       group4  Female  ...  76          Yes               Yes   \n",
              "4097       group2    Male  ...  86          NaN               NaN   \n",
              "2055       group1    Male  ...  23           No  No phone service   \n",
              "3279       group4  Female  ...  58          NaN               NaN   \n",
              "836        group1  Female  ...  72          NaN               NaN   \n",
              "4001       group1    Male  ...  89          NaN               NaN   \n",
              "\n",
              "     internetService onlineSecurity onlineBackup deviceProtection techSupport  \\\n",
              "4839             DSL             No          Yes               No          No   \n",
              "3212             DSL             No           No              Yes          No   \n",
              "2408             DSL            Yes          Yes               No          No   \n",
              "780              NaN            NaN          NaN              NaN         NaN   \n",
              "2006     Fiber optic            Yes          Yes              Yes          No   \n",
              "4097             NaN            NaN          NaN              NaN         NaN   \n",
              "2055             DSL             No           No               No          No   \n",
              "3279             NaN            NaN          NaN              NaN         NaN   \n",
              "836              NaN            NaN          NaN              NaN         NaN   \n",
              "4001             NaN            NaN          NaN              NaN         NaN   \n",
              "\n",
              "     streamingTV streamingMovies  \n",
              "4839          No              No  \n",
              "3212         Yes             Yes  \n",
              "2408          No              No  \n",
              "780          NaN             NaN  \n",
              "2006         Yes              No  \n",
              "4097         NaN             NaN  \n",
              "2055         Yes             Yes  \n",
              "3279         NaN             NaN  \n",
              "836          NaN             NaN  \n",
              "4001         NaN             NaN  \n",
              "\n",
              "[10 rows x 22 columns]"
            ],
            "text/html": [
              "\n",
              "  <div id=\"df-e3a8f833-99d4-4664-af11-dcca27f24129\">\n",
              "    <div class=\"colab-df-container\">\n",
              "      <div>\n",
              "<style scoped>\n",
              "    .dataframe tbody tr th:only-of-type {\n",
              "        vertical-align: middle;\n",
              "    }\n",
              "\n",
              "    .dataframe tbody tr th {\n",
              "        vertical-align: top;\n",
              "    }\n",
              "\n",
              "    .dataframe thead th {\n",
              "        text-align: right;\n",
              "    }\n",
              "</style>\n",
              "<table border=\"1\" class=\"dataframe\">\n",
              "  <thead>\n",
              "    <tr style=\"text-align: right;\">\n",
              "      <th></th>\n",
              "      <th>customerID</th>\n",
              "      <th>tenure</th>\n",
              "      <th>contract</th>\n",
              "      <th>paperlessBilling</th>\n",
              "      <th>paymentMethod</th>\n",
              "      <th>monthlyCharges</th>\n",
              "      <th>totalCharges</th>\n",
              "      <th>churn</th>\n",
              "      <th>tenureBinned</th>\n",
              "      <th>gender</th>\n",
              "      <th>...</th>\n",
              "      <th>age</th>\n",
              "      <th>phoneService</th>\n",
              "      <th>multipleLines</th>\n",
              "      <th>internetService</th>\n",
              "      <th>onlineSecurity</th>\n",
              "      <th>onlineBackup</th>\n",
              "      <th>deviceProtection</th>\n",
              "      <th>techSupport</th>\n",
              "      <th>streamingTV</th>\n",
              "      <th>streamingMovies</th>\n",
              "    </tr>\n",
              "  </thead>\n",
              "  <tbody>\n",
              "    <tr>\n",
              "      <th>4839</th>\n",
              "      <td>3256-EZDBI</td>\n",
              "      <td>51</td>\n",
              "      <td>Month-to-month</td>\n",
              "      <td>Yes</td>\n",
              "      <td>Credit card (automatic)</td>\n",
              "      <td>29.45</td>\n",
              "      <td>1459.35</td>\n",
              "      <td>No</td>\n",
              "      <td>group3</td>\n",
              "      <td>Male</td>\n",
              "      <td>...</td>\n",
              "      <td>73</td>\n",
              "      <td>No</td>\n",
              "      <td>No phone service</td>\n",
              "      <td>DSL</td>\n",
              "      <td>No</td>\n",
              "      <td>Yes</td>\n",
              "      <td>No</td>\n",
              "      <td>No</td>\n",
              "      <td>No</td>\n",
              "      <td>No</td>\n",
              "    </tr>\n",
              "    <tr>\n",
              "      <th>3212</th>\n",
              "      <td>2582-FFFZR</td>\n",
              "      <td>22</td>\n",
              "      <td>Month-to-month</td>\n",
              "      <td>Yes</td>\n",
              "      <td>Electronic check</td>\n",
              "      <td>50.60</td>\n",
              "      <td>1073.30</td>\n",
              "      <td>No</td>\n",
              "      <td>group1</td>\n",
              "      <td>Female</td>\n",
              "      <td>...</td>\n",
              "      <td>58</td>\n",
              "      <td>No</td>\n",
              "      <td>No phone service</td>\n",
              "      <td>DSL</td>\n",
              "      <td>No</td>\n",
              "      <td>No</td>\n",
              "      <td>Yes</td>\n",
              "      <td>No</td>\n",
              "      <td>Yes</td>\n",
              "      <td>Yes</td>\n",
              "    </tr>\n",
              "    <tr>\n",
              "      <th>2408</th>\n",
              "      <td>2703-AMTUL</td>\n",
              "      <td>36</td>\n",
              "      <td>One year</td>\n",
              "      <td>No</td>\n",
              "      <td>Mailed check</td>\n",
              "      <td>53.65</td>\n",
              "      <td>1939.35</td>\n",
              "      <td>No</td>\n",
              "      <td>group2</td>\n",
              "      <td>Male</td>\n",
              "      <td>...</td>\n",
              "      <td>46</td>\n",
              "      <td>Yes</td>\n",
              "      <td>No</td>\n",
              "      <td>DSL</td>\n",
              "      <td>Yes</td>\n",
              "      <td>Yes</td>\n",
              "      <td>No</td>\n",
              "      <td>No</td>\n",
              "      <td>No</td>\n",
              "      <td>No</td>\n",
              "    </tr>\n",
              "    <tr>\n",
              "      <th>780</th>\n",
              "      <td>6445-TNRXS</td>\n",
              "      <td>68</td>\n",
              "      <td>Two year</td>\n",
              "      <td>Yes</td>\n",
              "      <td>Bank transfer (automatic)</td>\n",
              "      <td>114.70</td>\n",
              "      <td>7849.85</td>\n",
              "      <td>No</td>\n",
              "      <td>group4</td>\n",
              "      <td>Male</td>\n",
              "      <td>...</td>\n",
              "      <td>50</td>\n",
              "      <td>NaN</td>\n",
              "      <td>NaN</td>\n",
              "      <td>NaN</td>\n",
              "      <td>NaN</td>\n",
              "      <td>NaN</td>\n",
              "      <td>NaN</td>\n",
              "      <td>NaN</td>\n",
              "      <td>NaN</td>\n",
              "      <td>NaN</td>\n",
              "    </tr>\n",
              "    <tr>\n",
              "      <th>2006</th>\n",
              "      <td>5781-BKHOP</td>\n",
              "      <td>72</td>\n",
              "      <td>Two year</td>\n",
              "      <td>No</td>\n",
              "      <td>Bank transfer (automatic)</td>\n",
              "      <td>100.65</td>\n",
              "      <td>7334.05</td>\n",
              "      <td>No</td>\n",
              "      <td>group4</td>\n",
              "      <td>Female</td>\n",
              "      <td>...</td>\n",
              "      <td>76</td>\n",
              "      <td>Yes</td>\n",
              "      <td>Yes</td>\n",
              "      <td>Fiber optic</td>\n",
              "      <td>Yes</td>\n",
              "      <td>Yes</td>\n",
              "      <td>Yes</td>\n",
              "      <td>No</td>\n",
              "      <td>Yes</td>\n",
              "      <td>No</td>\n",
              "    </tr>\n",
              "    <tr>\n",
              "      <th>4097</th>\n",
              "      <td>7856-GANIL</td>\n",
              "      <td>45</td>\n",
              "      <td>One year</td>\n",
              "      <td>Yes</td>\n",
              "      <td>Bank transfer (automatic)</td>\n",
              "      <td>98.70</td>\n",
              "      <td>4525.80</td>\n",
              "      <td>No</td>\n",
              "      <td>group2</td>\n",
              "      <td>Male</td>\n",
              "      <td>...</td>\n",
              "      <td>86</td>\n",
              "      <td>NaN</td>\n",
              "      <td>NaN</td>\n",
              "      <td>NaN</td>\n",
              "      <td>NaN</td>\n",
              "      <td>NaN</td>\n",
              "      <td>NaN</td>\n",
              "      <td>NaN</td>\n",
              "      <td>NaN</td>\n",
              "      <td>NaN</td>\n",
              "    </tr>\n",
              "    <tr>\n",
              "      <th>2055</th>\n",
              "      <td>2495-INZWQ</td>\n",
              "      <td>4</td>\n",
              "      <td>Month-to-month</td>\n",
              "      <td>Yes</td>\n",
              "      <td>Electronic check</td>\n",
              "      <td>44.55</td>\n",
              "      <td>174.30</td>\n",
              "      <td>Yes</td>\n",
              "      <td>group1</td>\n",
              "      <td>Male</td>\n",
              "      <td>...</td>\n",
              "      <td>23</td>\n",
              "      <td>No</td>\n",
              "      <td>No phone service</td>\n",
              "      <td>DSL</td>\n",
              "      <td>No</td>\n",
              "      <td>No</td>\n",
              "      <td>No</td>\n",
              "      <td>No</td>\n",
              "      <td>Yes</td>\n",
              "      <td>Yes</td>\n",
              "    </tr>\n",
              "    <tr>\n",
              "      <th>3279</th>\n",
              "      <td>7663-YJHSN</td>\n",
              "      <td>72</td>\n",
              "      <td>Two year</td>\n",
              "      <td>Yes</td>\n",
              "      <td>Bank transfer (automatic)</td>\n",
              "      <td>103.95</td>\n",
              "      <td>7556.90</td>\n",
              "      <td>No</td>\n",
              "      <td>group4</td>\n",
              "      <td>Female</td>\n",
              "      <td>...</td>\n",
              "      <td>58</td>\n",
              "      <td>NaN</td>\n",
              "      <td>NaN</td>\n",
              "      <td>NaN</td>\n",
              "      <td>NaN</td>\n",
              "      <td>NaN</td>\n",
              "      <td>NaN</td>\n",
              "      <td>NaN</td>\n",
              "      <td>NaN</td>\n",
              "      <td>NaN</td>\n",
              "    </tr>\n",
              "    <tr>\n",
              "      <th>836</th>\n",
              "      <td>9763-PDTKK</td>\n",
              "      <td>4</td>\n",
              "      <td>Month-to-month</td>\n",
              "      <td>Yes</td>\n",
              "      <td>Bank transfer (automatic)</td>\n",
              "      <td>94.40</td>\n",
              "      <td>387.20</td>\n",
              "      <td>Yes</td>\n",
              "      <td>group1</td>\n",
              "      <td>Female</td>\n",
              "      <td>...</td>\n",
              "      <td>72</td>\n",
              "      <td>NaN</td>\n",
              "      <td>NaN</td>\n",
              "      <td>NaN</td>\n",
              "      <td>NaN</td>\n",
              "      <td>NaN</td>\n",
              "      <td>NaN</td>\n",
              "      <td>NaN</td>\n",
              "      <td>NaN</td>\n",
              "      <td>NaN</td>\n",
              "    </tr>\n",
              "    <tr>\n",
              "      <th>4001</th>\n",
              "      <td>6082-GLJIX</td>\n",
              "      <td>18</td>\n",
              "      <td>Month-to-month</td>\n",
              "      <td>No</td>\n",
              "      <td>Mailed check</td>\n",
              "      <td>19.25</td>\n",
              "      <td>331.35</td>\n",
              "      <td>No</td>\n",
              "      <td>group1</td>\n",
              "      <td>Male</td>\n",
              "      <td>...</td>\n",
              "      <td>89</td>\n",
              "      <td>NaN</td>\n",
              "      <td>NaN</td>\n",
              "      <td>NaN</td>\n",
              "      <td>NaN</td>\n",
              "      <td>NaN</td>\n",
              "      <td>NaN</td>\n",
              "      <td>NaN</td>\n",
              "      <td>NaN</td>\n",
              "      <td>NaN</td>\n",
              "    </tr>\n",
              "  </tbody>\n",
              "</table>\n",
              "<p>10 rows × 22 columns</p>\n",
              "</div>\n",
              "      <button class=\"colab-df-convert\" onclick=\"convertToInteractive('df-e3a8f833-99d4-4664-af11-dcca27f24129')\"\n",
              "              title=\"Convert this dataframe to an interactive table.\"\n",
              "              style=\"display:none;\">\n",
              "        \n",
              "  <svg xmlns=\"http://www.w3.org/2000/svg\" height=\"24px\"viewBox=\"0 0 24 24\"\n",
              "       width=\"24px\">\n",
              "    <path d=\"M0 0h24v24H0V0z\" fill=\"none\"/>\n",
              "    <path d=\"M18.56 5.44l.94 2.06.94-2.06 2.06-.94-2.06-.94-.94-2.06-.94 2.06-2.06.94zm-11 1L8.5 8.5l.94-2.06 2.06-.94-2.06-.94L8.5 2.5l-.94 2.06-2.06.94zm10 10l.94 2.06.94-2.06 2.06-.94-2.06-.94-.94-2.06-.94 2.06-2.06.94z\"/><path d=\"M17.41 7.96l-1.37-1.37c-.4-.4-.92-.59-1.43-.59-.52 0-1.04.2-1.43.59L10.3 9.45l-7.72 7.72c-.78.78-.78 2.05 0 2.83L4 21.41c.39.39.9.59 1.41.59.51 0 1.02-.2 1.41-.59l7.78-7.78 2.81-2.81c.8-.78.8-2.07 0-2.86zM5.41 20L4 18.59l7.72-7.72 1.47 1.35L5.41 20z\"/>\n",
              "  </svg>\n",
              "      </button>\n",
              "      \n",
              "  <style>\n",
              "    .colab-df-container {\n",
              "      display:flex;\n",
              "      flex-wrap:wrap;\n",
              "      gap: 12px;\n",
              "    }\n",
              "\n",
              "    .colab-df-convert {\n",
              "      background-color: #E8F0FE;\n",
              "      border: none;\n",
              "      border-radius: 50%;\n",
              "      cursor: pointer;\n",
              "      display: none;\n",
              "      fill: #1967D2;\n",
              "      height: 32px;\n",
              "      padding: 0 0 0 0;\n",
              "      width: 32px;\n",
              "    }\n",
              "\n",
              "    .colab-df-convert:hover {\n",
              "      background-color: #E2EBFA;\n",
              "      box-shadow: 0px 1px 2px rgba(60, 64, 67, 0.3), 0px 1px 3px 1px rgba(60, 64, 67, 0.15);\n",
              "      fill: #174EA6;\n",
              "    }\n",
              "\n",
              "    [theme=dark] .colab-df-convert {\n",
              "      background-color: #3B4455;\n",
              "      fill: #D2E3FC;\n",
              "    }\n",
              "\n",
              "    [theme=dark] .colab-df-convert:hover {\n",
              "      background-color: #434B5C;\n",
              "      box-shadow: 0px 1px 3px 1px rgba(0, 0, 0, 0.15);\n",
              "      filter: drop-shadow(0px 1px 2px rgba(0, 0, 0, 0.3));\n",
              "      fill: #FFFFFF;\n",
              "    }\n",
              "  </style>\n",
              "\n",
              "      <script>\n",
              "        const buttonEl =\n",
              "          document.querySelector('#df-e3a8f833-99d4-4664-af11-dcca27f24129 button.colab-df-convert');\n",
              "        buttonEl.style.display =\n",
              "          google.colab.kernel.accessAllowed ? 'block' : 'none';\n",
              "\n",
              "        async function convertToInteractive(key) {\n",
              "          const element = document.querySelector('#df-e3a8f833-99d4-4664-af11-dcca27f24129');\n",
              "          const dataTable =\n",
              "            await google.colab.kernel.invokeFunction('convertToInteractive',\n",
              "                                                     [key], {});\n",
              "          if (!dataTable) return;\n",
              "\n",
              "          const docLinkHtml = 'Like what you see? Visit the ' +\n",
              "            '<a target=\"_blank\" href=https://colab.research.google.com/notebooks/data_table.ipynb>data table notebook</a>'\n",
              "            + ' to learn more about interactive tables.';\n",
              "          element.innerHTML = '';\n",
              "          dataTable['output_type'] = 'display_data';\n",
              "          await google.colab.output.renderOutput(dataTable, element);\n",
              "          const docLink = document.createElement('div');\n",
              "          docLink.innerHTML = docLinkHtml;\n",
              "          element.appendChild(docLink);\n",
              "        }\n",
              "      </script>\n",
              "    </div>\n",
              "  </div>\n",
              "  "
            ]
          },
          "metadata": {},
          "execution_count": 106
        }
      ]
    },
    {
      "cell_type": "code",
      "source": [
        "pct_age_above_60 = int((data_merged['age'].gt(60).mean() * 100).round())"
      ],
      "metadata": {
        "id": "XrJh5qOIwfLR"
      },
      "execution_count": null,
      "outputs": []
    },
    {
      "cell_type": "code",
      "source": [
        "data_merged['age']"
      ],
      "metadata": {
        "colab": {
          "base_uri": "https://localhost:8080/"
        },
        "id": "g98In4AOxKtw",
        "outputId": "4f5d1778-de93-4757-c5dd-62e1cb753d6c"
      },
      "execution_count": 107,
      "outputs": [
        {
          "output_type": "execute_result",
          "data": {
            "text/plain": [
              "0       41\n",
              "1       58\n",
              "2       61\n",
              "3       66\n",
              "4       87\n",
              "        ..\n",
              "5271    24\n",
              "5272    33\n",
              "5273    46\n",
              "5274    45\n",
              "5275    36\n",
              "Name: age, Length: 5276, dtype: int64"
            ]
          },
          "metadata": {},
          "execution_count": 107
        }
      ]
    },
    {
      "cell_type": "code",
      "source": [
        "data_merged['age']>60"
      ],
      "metadata": {
        "colab": {
          "base_uri": "https://localhost:8080/"
        },
        "id": "_4oyHmfdxTNs",
        "outputId": "ed3dd2c6-bf98-4efd-e1dc-ff3289847302"
      },
      "execution_count": 109,
      "outputs": [
        {
          "output_type": "execute_result",
          "data": {
            "text/plain": [
              "0       False\n",
              "1       False\n",
              "2        True\n",
              "3        True\n",
              "4        True\n",
              "        ...  \n",
              "5271    False\n",
              "5272    False\n",
              "5273    False\n",
              "5274    False\n",
              "5275    False\n",
              "Name: age, Length: 5276, dtype: bool"
            ]
          },
          "metadata": {},
          "execution_count": 109
        }
      ]
    },
    {
      "cell_type": "code",
      "source": [
        "data_merged[data_merged['age']>60]"
      ],
      "metadata": {
        "colab": {
          "base_uri": "https://localhost:8080/",
          "height": 661
        },
        "id": "wczze5eXxYK8",
        "outputId": "c5aa1634-2d32-4372-965f-db3f3b0b56a0"
      },
      "execution_count": 111,
      "outputs": [
        {
          "output_type": "execute_result",
          "data": {
            "text/plain": [
              "      customerID  tenure        contract paperlessBilling  \\\n",
              "2     7795-CFOCW      45        One year               No   \n",
              "3     9237-HQITU       2  Month-to-month              Yes   \n",
              "4     9305-CDSKC       8  Month-to-month              Yes   \n",
              "15    8191-XWSZG      52        One year               No   \n",
              "20    1680-VDCWW      12        One year               No   \n",
              "...          ...     ...             ...              ...   \n",
              "5264  1035-IPQPU      63  Month-to-month              Yes   \n",
              "5265  7398-LXGYX      44  Month-to-month              Yes   \n",
              "5266  2823-LKABH      18  Month-to-month              Yes   \n",
              "5267  9281-CEDRU      68        Two year               No   \n",
              "5268  0871-OPBXW       2  Month-to-month              Yes   \n",
              "\n",
              "                  paymentMethod  monthlyCharges  totalCharges churn  \\\n",
              "2     Bank transfer (automatic)           42.30       1840.75    No   \n",
              "3              Electronic check           70.70        151.65   Yes   \n",
              "4              Electronic check           99.65        820.50   Yes   \n",
              "15                 Mailed check           20.65       1022.95    No   \n",
              "20    Bank transfer (automatic)           19.80        202.25    No   \n",
              "...                         ...             ...           ...   ...   \n",
              "5264           Electronic check          103.50       6479.40    No   \n",
              "5265    Credit card (automatic)           84.80       3626.35    No   \n",
              "5266  Bank transfer (automatic)           95.05       1679.40    No   \n",
              "5267  Bank transfer (automatic)           64.10       4326.25    No   \n",
              "5268               Mailed check           20.05         39.25    No   \n",
              "\n",
              "     tenureBinned  gender  ... age phoneService     multipleLines  \\\n",
              "2          group2    Male  ...  61           No  No phone service   \n",
              "3          group1  Female  ...  66          Yes                No   \n",
              "4          group1  Female  ...  87          NaN               NaN   \n",
              "15         group3  Female  ...  64          Yes                No   \n",
              "20         group1    Male  ...  68          NaN               NaN   \n",
              "...           ...     ...  ...  ..          ...               ...   \n",
              "5264       group4  Female  ...  62          Yes               Yes   \n",
              "5265       group2    Male  ...  90          NaN               NaN   \n",
              "5266       group1  Female  ...  61          Yes               Yes   \n",
              "5267       group4  Female  ...  71          Yes                No   \n",
              "5268       group1  Female  ...  84          NaN               NaN   \n",
              "\n",
              "     internetService       onlineSecurity         onlineBackup  \\\n",
              "2                DSL                  Yes                   No   \n",
              "3        Fiber optic                   No                   No   \n",
              "4                NaN                  NaN                  NaN   \n",
              "15                No  No internet service  No internet service   \n",
              "20               NaN                  NaN                  NaN   \n",
              "...              ...                  ...                  ...   \n",
              "5264     Fiber optic                   No                  Yes   \n",
              "5265             NaN                  NaN                  NaN   \n",
              "5266     Fiber optic                   No                   No   \n",
              "5267             DSL                   No                  Yes   \n",
              "5268             NaN                  NaN                  NaN   \n",
              "\n",
              "         deviceProtection          techSupport          streamingTV  \\\n",
              "2                     Yes                  Yes                   No   \n",
              "3                      No                   No                   No   \n",
              "4                     NaN                  NaN                  NaN   \n",
              "15    No internet service  No internet service  No internet service   \n",
              "20                    NaN                  NaN                  NaN   \n",
              "...                   ...                  ...                  ...   \n",
              "5264                  Yes                   No                  Yes   \n",
              "5265                  NaN                  NaN                  NaN   \n",
              "5266                  Yes                  Yes                   No   \n",
              "5267                   No                  Yes                  Yes   \n",
              "5268                  NaN                  NaN                  NaN   \n",
              "\n",
              "          streamingMovies  \n",
              "2                      No  \n",
              "3                      No  \n",
              "4                     NaN  \n",
              "15    No internet service  \n",
              "20                    NaN  \n",
              "...                   ...  \n",
              "5264                  Yes  \n",
              "5265                  NaN  \n",
              "5266                  Yes  \n",
              "5267                   No  \n",
              "5268                  NaN  \n",
              "\n",
              "[2194 rows x 22 columns]"
            ],
            "text/html": [
              "\n",
              "  <div id=\"df-3a2f999b-82a6-4ac4-bbe0-752484e99f5c\">\n",
              "    <div class=\"colab-df-container\">\n",
              "      <div>\n",
              "<style scoped>\n",
              "    .dataframe tbody tr th:only-of-type {\n",
              "        vertical-align: middle;\n",
              "    }\n",
              "\n",
              "    .dataframe tbody tr th {\n",
              "        vertical-align: top;\n",
              "    }\n",
              "\n",
              "    .dataframe thead th {\n",
              "        text-align: right;\n",
              "    }\n",
              "</style>\n",
              "<table border=\"1\" class=\"dataframe\">\n",
              "  <thead>\n",
              "    <tr style=\"text-align: right;\">\n",
              "      <th></th>\n",
              "      <th>customerID</th>\n",
              "      <th>tenure</th>\n",
              "      <th>contract</th>\n",
              "      <th>paperlessBilling</th>\n",
              "      <th>paymentMethod</th>\n",
              "      <th>monthlyCharges</th>\n",
              "      <th>totalCharges</th>\n",
              "      <th>churn</th>\n",
              "      <th>tenureBinned</th>\n",
              "      <th>gender</th>\n",
              "      <th>...</th>\n",
              "      <th>age</th>\n",
              "      <th>phoneService</th>\n",
              "      <th>multipleLines</th>\n",
              "      <th>internetService</th>\n",
              "      <th>onlineSecurity</th>\n",
              "      <th>onlineBackup</th>\n",
              "      <th>deviceProtection</th>\n",
              "      <th>techSupport</th>\n",
              "      <th>streamingTV</th>\n",
              "      <th>streamingMovies</th>\n",
              "    </tr>\n",
              "  </thead>\n",
              "  <tbody>\n",
              "    <tr>\n",
              "      <th>2</th>\n",
              "      <td>7795-CFOCW</td>\n",
              "      <td>45</td>\n",
              "      <td>One year</td>\n",
              "      <td>No</td>\n",
              "      <td>Bank transfer (automatic)</td>\n",
              "      <td>42.30</td>\n",
              "      <td>1840.75</td>\n",
              "      <td>No</td>\n",
              "      <td>group2</td>\n",
              "      <td>Male</td>\n",
              "      <td>...</td>\n",
              "      <td>61</td>\n",
              "      <td>No</td>\n",
              "      <td>No phone service</td>\n",
              "      <td>DSL</td>\n",
              "      <td>Yes</td>\n",
              "      <td>No</td>\n",
              "      <td>Yes</td>\n",
              "      <td>Yes</td>\n",
              "      <td>No</td>\n",
              "      <td>No</td>\n",
              "    </tr>\n",
              "    <tr>\n",
              "      <th>3</th>\n",
              "      <td>9237-HQITU</td>\n",
              "      <td>2</td>\n",
              "      <td>Month-to-month</td>\n",
              "      <td>Yes</td>\n",
              "      <td>Electronic check</td>\n",
              "      <td>70.70</td>\n",
              "      <td>151.65</td>\n",
              "      <td>Yes</td>\n",
              "      <td>group1</td>\n",
              "      <td>Female</td>\n",
              "      <td>...</td>\n",
              "      <td>66</td>\n",
              "      <td>Yes</td>\n",
              "      <td>No</td>\n",
              "      <td>Fiber optic</td>\n",
              "      <td>No</td>\n",
              "      <td>No</td>\n",
              "      <td>No</td>\n",
              "      <td>No</td>\n",
              "      <td>No</td>\n",
              "      <td>No</td>\n",
              "    </tr>\n",
              "    <tr>\n",
              "      <th>4</th>\n",
              "      <td>9305-CDSKC</td>\n",
              "      <td>8</td>\n",
              "      <td>Month-to-month</td>\n",
              "      <td>Yes</td>\n",
              "      <td>Electronic check</td>\n",
              "      <td>99.65</td>\n",
              "      <td>820.50</td>\n",
              "      <td>Yes</td>\n",
              "      <td>group1</td>\n",
              "      <td>Female</td>\n",
              "      <td>...</td>\n",
              "      <td>87</td>\n",
              "      <td>NaN</td>\n",
              "      <td>NaN</td>\n",
              "      <td>NaN</td>\n",
              "      <td>NaN</td>\n",
              "      <td>NaN</td>\n",
              "      <td>NaN</td>\n",
              "      <td>NaN</td>\n",
              "      <td>NaN</td>\n",
              "      <td>NaN</td>\n",
              "    </tr>\n",
              "    <tr>\n",
              "      <th>15</th>\n",
              "      <td>8191-XWSZG</td>\n",
              "      <td>52</td>\n",
              "      <td>One year</td>\n",
              "      <td>No</td>\n",
              "      <td>Mailed check</td>\n",
              "      <td>20.65</td>\n",
              "      <td>1022.95</td>\n",
              "      <td>No</td>\n",
              "      <td>group3</td>\n",
              "      <td>Female</td>\n",
              "      <td>...</td>\n",
              "      <td>64</td>\n",
              "      <td>Yes</td>\n",
              "      <td>No</td>\n",
              "      <td>No</td>\n",
              "      <td>No internet service</td>\n",
              "      <td>No internet service</td>\n",
              "      <td>No internet service</td>\n",
              "      <td>No internet service</td>\n",
              "      <td>No internet service</td>\n",
              "      <td>No internet service</td>\n",
              "    </tr>\n",
              "    <tr>\n",
              "      <th>20</th>\n",
              "      <td>1680-VDCWW</td>\n",
              "      <td>12</td>\n",
              "      <td>One year</td>\n",
              "      <td>No</td>\n",
              "      <td>Bank transfer (automatic)</td>\n",
              "      <td>19.80</td>\n",
              "      <td>202.25</td>\n",
              "      <td>No</td>\n",
              "      <td>group1</td>\n",
              "      <td>Male</td>\n",
              "      <td>...</td>\n",
              "      <td>68</td>\n",
              "      <td>NaN</td>\n",
              "      <td>NaN</td>\n",
              "      <td>NaN</td>\n",
              "      <td>NaN</td>\n",
              "      <td>NaN</td>\n",
              "      <td>NaN</td>\n",
              "      <td>NaN</td>\n",
              "      <td>NaN</td>\n",
              "      <td>NaN</td>\n",
              "    </tr>\n",
              "    <tr>\n",
              "      <th>...</th>\n",
              "      <td>...</td>\n",
              "      <td>...</td>\n",
              "      <td>...</td>\n",
              "      <td>...</td>\n",
              "      <td>...</td>\n",
              "      <td>...</td>\n",
              "      <td>...</td>\n",
              "      <td>...</td>\n",
              "      <td>...</td>\n",
              "      <td>...</td>\n",
              "      <td>...</td>\n",
              "      <td>...</td>\n",
              "      <td>...</td>\n",
              "      <td>...</td>\n",
              "      <td>...</td>\n",
              "      <td>...</td>\n",
              "      <td>...</td>\n",
              "      <td>...</td>\n",
              "      <td>...</td>\n",
              "      <td>...</td>\n",
              "      <td>...</td>\n",
              "    </tr>\n",
              "    <tr>\n",
              "      <th>5264</th>\n",
              "      <td>1035-IPQPU</td>\n",
              "      <td>63</td>\n",
              "      <td>Month-to-month</td>\n",
              "      <td>Yes</td>\n",
              "      <td>Electronic check</td>\n",
              "      <td>103.50</td>\n",
              "      <td>6479.40</td>\n",
              "      <td>No</td>\n",
              "      <td>group4</td>\n",
              "      <td>Female</td>\n",
              "      <td>...</td>\n",
              "      <td>62</td>\n",
              "      <td>Yes</td>\n",
              "      <td>Yes</td>\n",
              "      <td>Fiber optic</td>\n",
              "      <td>No</td>\n",
              "      <td>Yes</td>\n",
              "      <td>Yes</td>\n",
              "      <td>No</td>\n",
              "      <td>Yes</td>\n",
              "      <td>Yes</td>\n",
              "    </tr>\n",
              "    <tr>\n",
              "      <th>5265</th>\n",
              "      <td>7398-LXGYX</td>\n",
              "      <td>44</td>\n",
              "      <td>Month-to-month</td>\n",
              "      <td>Yes</td>\n",
              "      <td>Credit card (automatic)</td>\n",
              "      <td>84.80</td>\n",
              "      <td>3626.35</td>\n",
              "      <td>No</td>\n",
              "      <td>group2</td>\n",
              "      <td>Male</td>\n",
              "      <td>...</td>\n",
              "      <td>90</td>\n",
              "      <td>NaN</td>\n",
              "      <td>NaN</td>\n",
              "      <td>NaN</td>\n",
              "      <td>NaN</td>\n",
              "      <td>NaN</td>\n",
              "      <td>NaN</td>\n",
              "      <td>NaN</td>\n",
              "      <td>NaN</td>\n",
              "      <td>NaN</td>\n",
              "    </tr>\n",
              "    <tr>\n",
              "      <th>5266</th>\n",
              "      <td>2823-LKABH</td>\n",
              "      <td>18</td>\n",
              "      <td>Month-to-month</td>\n",
              "      <td>Yes</td>\n",
              "      <td>Bank transfer (automatic)</td>\n",
              "      <td>95.05</td>\n",
              "      <td>1679.40</td>\n",
              "      <td>No</td>\n",
              "      <td>group1</td>\n",
              "      <td>Female</td>\n",
              "      <td>...</td>\n",
              "      <td>61</td>\n",
              "      <td>Yes</td>\n",
              "      <td>Yes</td>\n",
              "      <td>Fiber optic</td>\n",
              "      <td>No</td>\n",
              "      <td>No</td>\n",
              "      <td>Yes</td>\n",
              "      <td>Yes</td>\n",
              "      <td>No</td>\n",
              "      <td>Yes</td>\n",
              "    </tr>\n",
              "    <tr>\n",
              "      <th>5267</th>\n",
              "      <td>9281-CEDRU</td>\n",
              "      <td>68</td>\n",
              "      <td>Two year</td>\n",
              "      <td>No</td>\n",
              "      <td>Bank transfer (automatic)</td>\n",
              "      <td>64.10</td>\n",
              "      <td>4326.25</td>\n",
              "      <td>No</td>\n",
              "      <td>group4</td>\n",
              "      <td>Female</td>\n",
              "      <td>...</td>\n",
              "      <td>71</td>\n",
              "      <td>Yes</td>\n",
              "      <td>No</td>\n",
              "      <td>DSL</td>\n",
              "      <td>No</td>\n",
              "      <td>Yes</td>\n",
              "      <td>No</td>\n",
              "      <td>Yes</td>\n",
              "      <td>Yes</td>\n",
              "      <td>No</td>\n",
              "    </tr>\n",
              "    <tr>\n",
              "      <th>5268</th>\n",
              "      <td>0871-OPBXW</td>\n",
              "      <td>2</td>\n",
              "      <td>Month-to-month</td>\n",
              "      <td>Yes</td>\n",
              "      <td>Mailed check</td>\n",
              "      <td>20.05</td>\n",
              "      <td>39.25</td>\n",
              "      <td>No</td>\n",
              "      <td>group1</td>\n",
              "      <td>Female</td>\n",
              "      <td>...</td>\n",
              "      <td>84</td>\n",
              "      <td>NaN</td>\n",
              "      <td>NaN</td>\n",
              "      <td>NaN</td>\n",
              "      <td>NaN</td>\n",
              "      <td>NaN</td>\n",
              "      <td>NaN</td>\n",
              "      <td>NaN</td>\n",
              "      <td>NaN</td>\n",
              "      <td>NaN</td>\n",
              "    </tr>\n",
              "  </tbody>\n",
              "</table>\n",
              "<p>2194 rows × 22 columns</p>\n",
              "</div>\n",
              "      <button class=\"colab-df-convert\" onclick=\"convertToInteractive('df-3a2f999b-82a6-4ac4-bbe0-752484e99f5c')\"\n",
              "              title=\"Convert this dataframe to an interactive table.\"\n",
              "              style=\"display:none;\">\n",
              "        \n",
              "  <svg xmlns=\"http://www.w3.org/2000/svg\" height=\"24px\"viewBox=\"0 0 24 24\"\n",
              "       width=\"24px\">\n",
              "    <path d=\"M0 0h24v24H0V0z\" fill=\"none\"/>\n",
              "    <path d=\"M18.56 5.44l.94 2.06.94-2.06 2.06-.94-2.06-.94-.94-2.06-.94 2.06-2.06.94zm-11 1L8.5 8.5l.94-2.06 2.06-.94-2.06-.94L8.5 2.5l-.94 2.06-2.06.94zm10 10l.94 2.06.94-2.06 2.06-.94-2.06-.94-.94-2.06-.94 2.06-2.06.94z\"/><path d=\"M17.41 7.96l-1.37-1.37c-.4-.4-.92-.59-1.43-.59-.52 0-1.04.2-1.43.59L10.3 9.45l-7.72 7.72c-.78.78-.78 2.05 0 2.83L4 21.41c.39.39.9.59 1.41.59.51 0 1.02-.2 1.41-.59l7.78-7.78 2.81-2.81c.8-.78.8-2.07 0-2.86zM5.41 20L4 18.59l7.72-7.72 1.47 1.35L5.41 20z\"/>\n",
              "  </svg>\n",
              "      </button>\n",
              "      \n",
              "  <style>\n",
              "    .colab-df-container {\n",
              "      display:flex;\n",
              "      flex-wrap:wrap;\n",
              "      gap: 12px;\n",
              "    }\n",
              "\n",
              "    .colab-df-convert {\n",
              "      background-color: #E8F0FE;\n",
              "      border: none;\n",
              "      border-radius: 50%;\n",
              "      cursor: pointer;\n",
              "      display: none;\n",
              "      fill: #1967D2;\n",
              "      height: 32px;\n",
              "      padding: 0 0 0 0;\n",
              "      width: 32px;\n",
              "    }\n",
              "\n",
              "    .colab-df-convert:hover {\n",
              "      background-color: #E2EBFA;\n",
              "      box-shadow: 0px 1px 2px rgba(60, 64, 67, 0.3), 0px 1px 3px 1px rgba(60, 64, 67, 0.15);\n",
              "      fill: #174EA6;\n",
              "    }\n",
              "\n",
              "    [theme=dark] .colab-df-convert {\n",
              "      background-color: #3B4455;\n",
              "      fill: #D2E3FC;\n",
              "    }\n",
              "\n",
              "    [theme=dark] .colab-df-convert:hover {\n",
              "      background-color: #434B5C;\n",
              "      box-shadow: 0px 1px 3px 1px rgba(0, 0, 0, 0.15);\n",
              "      filter: drop-shadow(0px 1px 2px rgba(0, 0, 0, 0.3));\n",
              "      fill: #FFFFFF;\n",
              "    }\n",
              "  </style>\n",
              "\n",
              "      <script>\n",
              "        const buttonEl =\n",
              "          document.querySelector('#df-3a2f999b-82a6-4ac4-bbe0-752484e99f5c button.colab-df-convert');\n",
              "        buttonEl.style.display =\n",
              "          google.colab.kernel.accessAllowed ? 'block' : 'none';\n",
              "\n",
              "        async function convertToInteractive(key) {\n",
              "          const element = document.querySelector('#df-3a2f999b-82a6-4ac4-bbe0-752484e99f5c');\n",
              "          const dataTable =\n",
              "            await google.colab.kernel.invokeFunction('convertToInteractive',\n",
              "                                                     [key], {});\n",
              "          if (!dataTable) return;\n",
              "\n",
              "          const docLinkHtml = 'Like what you see? Visit the ' +\n",
              "            '<a target=\"_blank\" href=https://colab.research.google.com/notebooks/data_table.ipynb>data table notebook</a>'\n",
              "            + ' to learn more about interactive tables.';\n",
              "          element.innerHTML = '';\n",
              "          dataTable['output_type'] = 'display_data';\n",
              "          await google.colab.output.renderOutput(dataTable, element);\n",
              "          const docLink = document.createElement('div');\n",
              "          docLink.innerHTML = docLinkHtml;\n",
              "          element.appendChild(docLink);\n",
              "        }\n",
              "      </script>\n",
              "    </div>\n",
              "  </div>\n",
              "  "
            ]
          },
          "metadata": {},
          "execution_count": 111
        }
      ]
    },
    {
      "cell_type": "code",
      "source": [
        "data_merged[data_merged['age']>60].count()"
      ],
      "metadata": {
        "colab": {
          "base_uri": "https://localhost:8080/"
        },
        "id": "ao726UQYxo0e",
        "outputId": "1834fd33-f9da-496c-c7db-2830b9682f31"
      },
      "execution_count": 112,
      "outputs": [
        {
          "output_type": "execute_result",
          "data": {
            "text/plain": [
              "customerID          2194\n",
              "tenure              2194\n",
              "contract            2194\n",
              "paperlessBilling    2194\n",
              "paymentMethod       2194\n",
              "monthlyCharges      2194\n",
              "totalCharges        2194\n",
              "churn               2194\n",
              "tenureBinned        2194\n",
              "gender              2194\n",
              "partner             2194\n",
              "dependents          2194\n",
              "age                 2194\n",
              "phoneService        1472\n",
              "multipleLines       1472\n",
              "internetService     1472\n",
              "onlineSecurity      1472\n",
              "onlineBackup        1472\n",
              "deviceProtection    1472\n",
              "techSupport         1472\n",
              "streamingTV         1472\n",
              "streamingMovies     1472\n",
              "dtype: int64"
            ]
          },
          "metadata": {},
          "execution_count": 112
        }
      ]
    },
    {
      "cell_type": "code",
      "source": [
        "data_merged[data_merged['age']>60]['age'].count()"
      ],
      "metadata": {
        "colab": {
          "base_uri": "https://localhost:8080/"
        },
        "id": "XuHCT3pPx4vm",
        "outputId": "19ac27f4-03d9-4ac2-c9e8-496baa599295"
      },
      "execution_count": 113,
      "outputs": [
        {
          "output_type": "execute_result",
          "data": {
            "text/plain": [
              "2194"
            ]
          },
          "metadata": {},
          "execution_count": 113
        }
      ]
    },
    {
      "cell_type": "code",
      "source": [
        "data_merged[data_merged['age']>60]['age'].count()/data_merged['age'].count()*100"
      ],
      "metadata": {
        "colab": {
          "base_uri": "https://localhost:8080/"
        },
        "id": "ogJkSGZvyEnp",
        "outputId": "257830f3-d447-408f-aaba-672435a9f0c4"
      },
      "execution_count": 115,
      "outputs": [
        {
          "output_type": "execute_result",
          "data": {
            "text/plain": [
              "41.58453373768006"
            ]
          },
          "metadata": {},
          "execution_count": 115
        }
      ]
    },
    {
      "cell_type": "code",
      "source": [
        "round(data_merged[data_merged['age']>60]['age'].count()/data_merged['age'].count()*100)"
      ],
      "metadata": {
        "colab": {
          "base_uri": "https://localhost:8080/"
        },
        "id": "vvxIAkv7yaqS",
        "outputId": "f573d4c5-d981-4185-9291-feed491467aa"
      },
      "execution_count": 116,
      "outputs": [
        {
          "output_type": "execute_result",
          "data": {
            "text/plain": [
              "42"
            ]
          },
          "metadata": {},
          "execution_count": 116
        }
      ]
    },
    {
      "cell_type": "code",
      "source": [
        "internet_service_counts = data_merged['internetService'].value_counts().to_dict()"
      ],
      "metadata": {
        "id": "m0TkPOKYyv7j"
      },
      "execution_count": 118,
      "outputs": []
    },
    {
      "cell_type": "code",
      "source": [
        "data_merged['internetService'].value_counts()"
      ],
      "metadata": {
        "colab": {
          "base_uri": "https://localhost:8080/"
        },
        "id": "EUklcjw8zRna",
        "outputId": "70842b6a-6d44-46be-daec-05587798cce9"
      },
      "execution_count": 117,
      "outputs": [
        {
          "output_type": "execute_result",
          "data": {
            "text/plain": [
              "Fiber optic    1577\n",
              "DSL            1197\n",
              "No              763\n",
              "Name: internetService, dtype: int64"
            ]
          },
          "metadata": {},
          "execution_count": 117
        }
      ]
    },
    {
      "cell_type": "code",
      "source": [
        "internet_service_counts"
      ],
      "metadata": {
        "colab": {
          "base_uri": "https://localhost:8080/"
        },
        "id": "mFm-NHu_zSi8",
        "outputId": "90ecc059-160c-4167-a3aa-c3d6305eb56a"
      },
      "execution_count": 119,
      "outputs": [
        {
          "output_type": "execute_result",
          "data": {
            "text/plain": [
              "{'Fiber optic': 1577, 'DSL': 1197, 'No': 763}"
            ]
          },
          "metadata": {},
          "execution_count": 119
        }
      ]
    },
    {
      "cell_type": "code",
      "source": [],
      "metadata": {
        "id": "Ou8YY6-HzZO3"
      },
      "execution_count": null,
      "outputs": []
    }
  ]
}