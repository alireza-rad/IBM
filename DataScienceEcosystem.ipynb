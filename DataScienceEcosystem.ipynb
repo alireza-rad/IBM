{
 "cells": [
  {
   "cell_type": "markdown",
   "id": "71375e03",
   "metadata": {},
   "source": [
    "# Data Science Tools and Ecosystem"
   ]
  },
  {
   "cell_type": "markdown",
   "id": "7317dee0",
   "metadata": {},
   "source": [
    "In this notebook, Data Science Tools and Ecosystem are summarized."
   ]
  },
  {
   "cell_type": "markdown",
   "id": "d5536d76",
   "metadata": {},
   "source": [
    "Some of the popular languages that Data Scientists use are:"
   ]
  },
  {
   "cell_type": "code",
   "execution_count": 4,
   "id": "21d1d943",
   "metadata": {},
   "outputs": [],
   "source": [
    "lst_1 = ['R' , 'Java' , 'Julia' ,'SQL']"
   ]
  },
  {
   "cell_type": "code",
   "execution_count": 6,
   "id": "e10fc0c0",
   "metadata": {},
   "outputs": [
    {
     "data": {
      "text/plain": [
       "['R', 'Java', 'Julia', 'SQL']"
      ]
     },
     "execution_count": 6,
     "metadata": {},
     "output_type": "execute_result"
    }
   ],
   "source": [
    "lst_1"
   ]
  },
  {
   "cell_type": "markdown",
   "id": "099a3251",
   "metadata": {},
   "source": [
    "Some of the commonly used libraries used by Data Scientists include:"
   ]
  },
  {
   "cell_type": "code",
   "execution_count": 7,
   "id": "0b930bab",
   "metadata": {},
   "outputs": [],
   "source": [
    "lst_2 = ['pandas' , 'numpy' , 'matplotlib' ,'SciKit-Learn']"
   ]
  },
  {
   "cell_type": "code",
   "execution_count": 8,
   "id": "57d6c709",
   "metadata": {},
   "outputs": [
    {
     "data": {
      "text/plain": [
       "['pandas', 'numpy', 'matplotlib', 'SciKit-Learn']"
      ]
     },
     "execution_count": 8,
     "metadata": {},
     "output_type": "execute_result"
    }
   ],
   "source": [
    "lst_2"
   ]
  },
  {
   "cell_type": "code",
   "execution_count": 10,
   "id": "c092c8f3",
   "metadata": {},
   "outputs": [
    {
     "name": "stdout",
     "output_type": "stream",
     "text": [
      "Collecting prettytableNote: you may need to restart the kernel to use updated packages.\n",
      "  Downloading prettytable-3.8.0-py3-none-any.whl (27 kB)\n",
      "Requirement already satisfied: wcwidth in c:\\users\\alireza\\anaconda3\\lib\\site-packages (from prettytable) (0.2.5)\n",
      "Installing collected packages: prettytable\n",
      "Successfully installed prettytable-3.8.0\n",
      "\n"
     ]
    }
   ],
   "source": [
    "pip install prettytable"
   ]
  },
  {
   "cell_type": "code",
   "execution_count": 11,
   "id": "9ff88840",
   "metadata": {},
   "outputs": [],
   "source": [
    "from prettytable import PrettyTable"
   ]
  },
  {
   "cell_type": "code",
   "execution_count": 12,
   "id": "8f67a7a9",
   "metadata": {},
   "outputs": [],
   "source": [
    "table = PrettyTable(['Data Science Tools'])"
   ]
  },
  {
   "cell_type": "code",
   "execution_count": 15,
   "id": "844b7298",
   "metadata": {},
   "outputs": [],
   "source": [
    "table.add_row(['RStudio'])\n",
    "table.add_row(['TensorFlow'])\n",
    "table.add_row(['Apache Spark'])\n"
   ]
  },
  {
   "cell_type": "code",
   "execution_count": 16,
   "id": "2d2a0eba",
   "metadata": {},
   "outputs": [
    {
     "data": {
      "text/html": [
       "<table>\n",
       "    <thead>\n",
       "        <tr>\n",
       "            <th>Data Science Tools</th>\n",
       "        </tr>\n",
       "    </thead>\n",
       "    <tbody>\n",
       "        <tr>\n",
       "            <td>RStudio</td>\n",
       "        </tr>\n",
       "        <tr>\n",
       "            <td>RStudio</td>\n",
       "        </tr>\n",
       "        <tr>\n",
       "            <td>TensorFlow</td>\n",
       "        </tr>\n",
       "        <tr>\n",
       "            <td>Apache Spark</td>\n",
       "        </tr>\n",
       "    </tbody>\n",
       "</table>"
      ],
      "text/plain": [
       "+--------------------+\n",
       "| Data Science Tools |\n",
       "+--------------------+\n",
       "|      RStudio       |\n",
       "|      RStudio       |\n",
       "|     TensorFlow     |\n",
       "|    Apache Spark    |\n",
       "+--------------------+"
      ]
     },
     "execution_count": 16,
     "metadata": {},
     "output_type": "execute_result"
    }
   ],
   "source": [
    "table"
   ]
  },
  {
   "cell_type": "markdown",
   "id": "533806a2",
   "metadata": {},
   "source": [
    "# # # Below are a few examples of evaluating arithmetic expressions in Python."
   ]
  },
  {
   "cell_type": "code",
   "execution_count": 18,
   "id": "a227b37a",
   "metadata": {},
   "outputs": [
    {
     "data": {
      "text/plain": [
       "17"
      ]
     },
     "execution_count": 18,
     "metadata": {},
     "output_type": "execute_result"
    }
   ],
   "source": [
    "(3*4)+5\n",
    "#  This a simple arithmetic expression to mutiply then add integers"
   ]
  },
  {
   "cell_type": "code",
   "execution_count": 19,
   "id": "a46e6b1c",
   "metadata": {
    "scrolled": true
   },
   "outputs": [
    {
     "name": "stdout",
     "output_type": "stream",
     "text": [
      "3.3333333333333335\n"
     ]
    }
   ],
   "source": [
    "minutes = 200\n",
    "hours = minutes / 60\n",
    "\n",
    "print(hours)\n",
    "# This will convert 200 minutes to hours by diving by 60."
   ]
  },
  {
   "cell_type": "markdown",
   "id": "3b72982e",
   "metadata": {},
   "source": [
    "## Author\n",
    "Alireza"
   ]
  },
  {
   "cell_type": "markdown",
   "id": "1b36c774",
   "metadata": {},
   "source": [
    "**Objectives:**\n",
    "\n",
    "- List popular languages for Data Science\n",
    "- Explain the basics of Python programming language\n",
    "- Introduce fundamental data structures in Python\n",
    "- Demonstrate how to manipulate and analyze data using Python libraries\n",
    "- Provide an overview of machine learning concepts and algorithms"
   ]
  }
 ],
 "metadata": {
  "kernelspec": {
   "display_name": "Python 3 (ipykernel)",
   "language": "python",
   "name": "python3"
  },
  "language_info": {
   "codemirror_mode": {
    "name": "ipython",
    "version": 3
   },
   "file_extension": ".py",
   "mimetype": "text/x-python",
   "name": "python",
   "nbconvert_exporter": "python",
   "pygments_lexer": "ipython3",
   "version": "3.9.7"
  }
 },
 "nbformat": 4,
 "nbformat_minor": 5
}
